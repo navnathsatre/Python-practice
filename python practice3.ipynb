{
 "cells": [
  {
   "cell_type": "markdown",
   "metadata": {},
   "source": [
    "# Flow Control"
   ]
  },
  {
   "cell_type": "code",
   "execution_count": 1,
   "metadata": {},
   "outputs": [
    {
     "name": "stdout",
     "output_type": "stream",
     "text": [
      "Number ?11.1\n",
      "The Absolute value of  11.1 is 11.1\n",
      "110\n"
     ]
    }
   ],
   "source": [
    "n=float(input(\"Number ?\"))  #take same no.\n",
    "if n>=0:\n",
    "    print(\"The Absolute value of \",n,\"is\",n)\n",
    "else:\n",
    "    print(\"The Absolute value of \",n,\"is\",-n)\n",
    "sumofnum=50+60\n",
    "print(sumofnum)"
   ]
  },
  {
   "cell_type": "code",
   "execution_count": 2,
   "metadata": {},
   "outputs": [
    {
     "name": "stdout",
     "output_type": "stream",
     "text": [
      "Number ?6655\n",
      "The Absolute value of  6655.0 is 6655.0\n"
     ]
    }
   ],
   "source": [
    "n=float(input(\"Number ?\"))  #take same no.\n",
    "if n>=0:  \n",
    "    print(\"The Absolute value of \",n,\"is\",n)\n",
    "else:\n",
    "    print(\"The Absolute value of \",n,\"is\",-n)\n",
    "    sumofnum=50+60\n",
    "    print(sumofnum)"
   ]
  },
  {
   "cell_type": "code",
   "execution_count": 3,
   "metadata": {},
   "outputs": [
    {
     "name": "stdout",
     "output_type": "stream",
     "text": [
      "Kiran\n",
      "the name entered is not valied\n"
     ]
    }
   ],
   "source": [
    "name=\"Kiran\"\n",
    "print(name)\n",
    "if name==\"kiran\":\n",
    "    print(\"the name entered is \",name)\n",
    "elif name==\"johan\":\n",
    "    print(\"the name entered is \",name)\n",
    "elif name==\"tim\":\n",
    "    print(\"the name entered is \",name)\n",
    "else:\n",
    "    print(\"the name entered is not valied\")"
   ]
  },
  {
   "cell_type": "code",
   "execution_count": 4,
   "metadata": {},
   "outputs": [
    {
     "name": "stdout",
     "output_type": "stream",
     "text": [
      "i have given up\n",
      "abc\n"
     ]
    }
   ],
   "source": [
    "name=\"animals\"\n",
    "animalname=\"2dog\"\n",
    "if name==\"animals\":\n",
    "  if animalname==\"2dag\":\n",
    "    print(\"Valied aniaml\")\n",
    "    print(\"Name entered is animal\")\n",
    "  else:\n",
    "        print(\"i have given up\")\n",
    "        print('abc')\n",
    "else:\n",
    "    print(\"the name entered is not valied\")"
   ]
  },
  {
   "cell_type": "code",
   "execution_count": 1,
   "metadata": {},
   "outputs": [
    {
     "name": "stdout",
     "output_type": "stream",
     "text": [
      "Valied aniaml\n",
      "Name entered is animal\n"
     ]
    }
   ],
   "source": [
    "name=\"animals\"\n",
    "animalname='2dog'\n",
    "if animalname=='2dog':\n",
    "  if name==\"animals\":\n",
    "    print(\"Valied aniaml\")\n",
    "    print(\"Name entered is animal\")\n",
    "  else:\n",
    "    print(\"i have given up\")\n",
    "    print('abc')\n",
    "else:\n",
    "    print(\"the name entered is not valied\")\n"
   ]
  },
  {
   "cell_type": "markdown",
   "metadata": {},
   "source": [
    "## loops"
   ]
  },
  {
   "cell_type": "code",
   "execution_count": 2,
   "metadata": {},
   "outputs": [
    {
     "name": "stdout",
     "output_type": "stream",
     "text": [
      "0 FIRST PRINT\n",
      "1 second print\n",
      "1 FIRST PRINT\n",
      "2 second print\n",
      "2 FIRST PRINT\n",
      "3 second print\n",
      "3 FIRST PRINT\n",
      "4 second print\n",
      "4 FIRST PRINT\n",
      "5 second print\n"
     ]
    }
   ],
   "source": [
    "a=0\n",
    "while a<5:\n",
    "    print(a,\"FIRST PRINT\")\n",
    "    a=a+1\n",
    "    print(a,\"second print\")"
   ]
  },
  {
   "cell_type": "code",
   "execution_count": 5,
   "metadata": {},
   "outputs": [
    {
     "name": "stdout",
     "output_type": "stream",
     "text": [
      "enter no. to add to sum\n",
      "enter 0 to quit\n",
      "current sum:  1\n",
      "enter a no.:666\n",
      "current sum:  666.0\n",
      "enter a no.:46\n",
      "current sum:  46.0\n",
      "enter a no.:656\n",
      "current sum:  656.0\n",
      "enter a no.:548\n",
      "current sum:  548.0\n",
      "enter a no.:4\n",
      "current sum:  4.0\n",
      "enter a no.:0\n",
      "total sum =  1920.0\n"
     ]
    }
   ],
   "source": [
    "a=1\n",
    "s=0\n",
    "x=0\n",
    "print('enter no. to add to sum')\n",
    "print('enter 0 to quit')\n",
    "while a != 0:\n",
    "    print('current sum: ',a)\n",
    "    a= float(input ('enter a no.:'))\n",
    "    s+=a\n",
    "print('total sum = ',s)"
   ]
  },
  {
   "cell_type": "code",
   "execution_count": 9,
   "metadata": {},
   "outputs": [
    {
     "name": "stdout",
     "output_type": "stream",
     "text": [
      "0 guess\n",
      "guess a no. between 1 to 10 until u get it right0\n",
      "guess a no. between 1 to 10 until u get it right9\n",
      "guess a no. between 1 to 10 until u get it right5\n",
      "guess a no. between 1 to 10 until u get it right7\n",
      "guess a no. between 1 to 10 until u get it right8\n",
      "guess a no. between 1 to 10 until u get it right9\n",
      "guess a no. between 1 to 10 until u get it right4\n",
      "guess a no. between 1 to 10 until u get it right5\n",
      "guess a no. between 1 to 10 until u get it right6\n",
      "guess a no. between 1 to 10 until u get it right1\n",
      "guess a no. between 1 to 10 until u get it right2\n",
      "guess a no. between 1 to 10 until u get it right3\n",
      "WELL GUESSED\n"
     ]
    }
   ],
   "source": [
    "#guess a no. between 1 to 9\n",
    "import random\n",
    "targate_num, guess_num=random.randint(1,10),0\n",
    "#print(targate_num,'targate')\n",
    "print(guess_num,'guess')\n",
    "while targate_num != guess_num:\n",
    "    guess_num=int(input('guess a no. between 1 to 10 until u get it right'))\n",
    "print(\"WELL GUESSED\")"
   ]
  },
  {
   "cell_type": "code",
   "execution_count": null,
   "metadata": {},
   "outputs": [],
   "source": []
  }
 ],
 "metadata": {
  "kernelspec": {
   "display_name": "Python 3",
   "language": "python",
   "name": "python3"
  },
  "language_info": {
   "codemirror_mode": {
    "name": "ipython",
    "version": 3
   },
   "file_extension": ".py",
   "mimetype": "text/x-python",
   "name": "python",
   "nbconvert_exporter": "python",
   "pygments_lexer": "ipython3",
   "version": "3.8.5"
  }
 },
 "nbformat": 4,
 "nbformat_minor": 4
}
