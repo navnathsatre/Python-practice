{
 "cells": [
  {
   "cell_type": "markdown",
   "id": "861b2ee6",
   "metadata": {},
   "source": [
    "## Introduction To Datatypes"
   ]
  },
  {
   "cell_type": "code",
   "execution_count": 1,
   "id": "1a5a75b9",
   "metadata": {},
   "outputs": [],
   "source": [
    "i = 10"
   ]
  },
  {
   "cell_type": "code",
   "execution_count": 2,
   "id": "3fdcd90f",
   "metadata": {},
   "outputs": [
    {
     "data": {
      "text/plain": [
       "int"
      ]
     },
     "execution_count": 2,
     "metadata": {},
     "output_type": "execute_result"
    }
   ],
   "source": [
    "type(i)"
   ]
  },
  {
   "cell_type": "code",
   "execution_count": 3,
   "id": "1871031f",
   "metadata": {},
   "outputs": [
    {
     "name": "stdout",
     "output_type": "stream",
     "text": [
      "<class 'int'>\n"
     ]
    }
   ],
   "source": [
    "print(type(i))"
   ]
  },
  {
   "cell_type": "code",
   "execution_count": 4,
   "id": "7ad5ae6c",
   "metadata": {},
   "outputs": [
    {
     "data": {
      "text/plain": [
       "10"
      ]
     },
     "execution_count": 4,
     "metadata": {},
     "output_type": "execute_result"
    }
   ],
   "source": [
    "i"
   ]
  },
  {
   "cell_type": "code",
   "execution_count": 5,
   "id": "47eaeada",
   "metadata": {},
   "outputs": [
    {
     "name": "stdout",
     "output_type": "stream",
     "text": [
      "10\n"
     ]
    }
   ],
   "source": [
    "print(i)"
   ]
  },
  {
   "cell_type": "code",
   "execution_count": null,
   "id": "13ac5a0b",
   "metadata": {},
   "outputs": [],
   "source": []
  },
  {
   "cell_type": "markdown",
   "id": "9ba0db11",
   "metadata": {},
   "source": [
    "## String \n",
    "* starting a collection of charectors\n",
    "* can be defined either double quotes or single quotes\n",
    "* IMMUTABLE"
   ]
  },
  {
   "cell_type": "code",
   "execution_count": 6,
   "id": "ac1d96a3",
   "metadata": {},
   "outputs": [],
   "source": [
    "s = \"WELCOME\""
   ]
  },
  {
   "cell_type": "code",
   "execution_count": 7,
   "id": "1d74b36f",
   "metadata": {},
   "outputs": [],
   "source": [
    "a = 'jupyter notebook'"
   ]
  },
  {
   "cell_type": "code",
   "execution_count": 8,
   "id": "ed373b65",
   "metadata": {},
   "outputs": [
    {
     "data": {
      "text/plain": [
       "7"
      ]
     },
     "execution_count": 8,
     "metadata": {},
     "output_type": "execute_result"
    }
   ],
   "source": [
    "# len- is the function to get the length of any constainer\n",
    "len(s)"
   ]
  },
  {
   "cell_type": "code",
   "execution_count": 9,
   "id": "d1d67698",
   "metadata": {},
   "outputs": [
    {
     "name": "stdout",
     "output_type": "stream",
     "text": [
      "<class 'str'>\n"
     ]
    }
   ],
   "source": [
    "print(type(s))"
   ]
  },
  {
   "cell_type": "markdown",
   "id": "e03bb85d",
   "metadata": {},
   "source": [
    "## Indexing"
   ]
  },
  {
   "cell_type": "markdown",
   "id": "8d7fed85",
   "metadata": {},
   "source": [
    "### Positive indeixng"
   ]
  },
  {
   "cell_type": "code",
   "execution_count": null,
   "id": "56973708",
   "metadata": {},
   "outputs": [],
   "source": [
    "#indexing starts from zero (0) to length-1\n",
    "#To access any element, always use Subscript oprator []"
   ]
  },
  {
   "cell_type": "code",
   "execution_count": 10,
   "id": "51f7926e",
   "metadata": {},
   "outputs": [
    {
     "data": {
      "text/plain": [
       "'W'"
      ]
     },
     "execution_count": 10,
     "metadata": {},
     "output_type": "execute_result"
    }
   ],
   "source": [
    "s[0]"
   ]
  },
  {
   "cell_type": "code",
   "execution_count": 11,
   "id": "b80e2efc",
   "metadata": {},
   "outputs": [
    {
     "data": {
      "text/plain": [
       "'E'"
      ]
     },
     "execution_count": 11,
     "metadata": {},
     "output_type": "execute_result"
    }
   ],
   "source": [
    "s[6]"
   ]
  },
  {
   "cell_type": "code",
   "execution_count": 12,
   "id": "fd454b6a",
   "metadata": {},
   "outputs": [
    {
     "ename": "IndexError",
     "evalue": "string index out of range",
     "output_type": "error",
     "traceback": [
      "\u001b[1;31m---------------------------------------------------------------------------\u001b[0m",
      "\u001b[1;31mIndexError\u001b[0m                                Traceback (most recent call last)",
      "\u001b[1;32m<ipython-input-12-b035325af127>\u001b[0m in \u001b[0;36m<module>\u001b[1;34m\u001b[0m\n\u001b[1;32m----> 1\u001b[1;33m \u001b[0ms\u001b[0m\u001b[1;33m[\u001b[0m\u001b[1;36m7\u001b[0m\u001b[1;33m]\u001b[0m\u001b[1;33m\u001b[0m\u001b[1;33m\u001b[0m\u001b[0m\n\u001b[0m",
      "\u001b[1;31mIndexError\u001b[0m: string index out of range"
     ]
    }
   ],
   "source": [
    "s[7]"
   ]
  },
  {
   "cell_type": "markdown",
   "id": "9f3eeacd",
   "metadata": {},
   "source": [
    "### Negative indexing"
   ]
  },
  {
   "cell_type": "code",
   "execution_count": 13,
   "id": "d82d9fe1",
   "metadata": {},
   "outputs": [
    {
     "data": {
      "text/plain": [
       "'E'"
      ]
     },
     "execution_count": 13,
     "metadata": {},
     "output_type": "execute_result"
    }
   ],
   "source": [
    "s[-1]"
   ]
  },
  {
   "cell_type": "code",
   "execution_count": 14,
   "id": "c3ea56ad",
   "metadata": {},
   "outputs": [
    {
     "data": {
      "text/plain": [
       "'W'"
      ]
     },
     "execution_count": 14,
     "metadata": {},
     "output_type": "execute_result"
    }
   ],
   "source": [
    "s[-7]"
   ]
  },
  {
   "cell_type": "code",
   "execution_count": 15,
   "id": "4a5a2546",
   "metadata": {},
   "outputs": [
    {
     "ename": "IndexError",
     "evalue": "string index out of range",
     "output_type": "error",
     "traceback": [
      "\u001b[1;31m---------------------------------------------------------------------------\u001b[0m",
      "\u001b[1;31mIndexError\u001b[0m                                Traceback (most recent call last)",
      "\u001b[1;32m<ipython-input-15-28d43f500622>\u001b[0m in \u001b[0;36m<module>\u001b[1;34m\u001b[0m\n\u001b[1;32m----> 1\u001b[1;33m \u001b[0ms\u001b[0m\u001b[1;33m[\u001b[0m\u001b[1;33m-\u001b[0m\u001b[1;36m8\u001b[0m\u001b[1;33m]\u001b[0m\u001b[1;33m\u001b[0m\u001b[1;33m\u001b[0m\u001b[0m\n\u001b[0m",
      "\u001b[1;31mIndexError\u001b[0m: string index out of range"
     ]
    }
   ],
   "source": [
    "s[-8]"
   ]
  },
  {
   "cell_type": "markdown",
   "id": "a5499c4f",
   "metadata": {},
   "source": [
    "## Slicing\n",
    "* Extracts a subtring from a string\n",
    "* Syntax: StartPos : EndPos : SkipCountDirection\n",
    "* StartPos -> Included, EndPos -> Excluded\n",
    "* By default, slicing always works from left to right(unless chenged by direction)"
   ]
  },
  {
   "cell_type": "code",
   "execution_count": 16,
   "id": "9fc118a8",
   "metadata": {},
   "outputs": [
    {
     "data": {
      "text/plain": [
       "'WEL'"
      ]
     },
     "execution_count": 16,
     "metadata": {},
     "output_type": "execute_result"
    }
   ],
   "source": [
    "s[0:3]"
   ]
  },
  {
   "cell_type": "code",
   "execution_count": 17,
   "id": "2e98054b",
   "metadata": {},
   "outputs": [
    {
     "data": {
      "text/plain": [
       "'COME'"
      ]
     },
     "execution_count": 17,
     "metadata": {},
     "output_type": "execute_result"
    }
   ],
   "source": [
    "s[3:7]"
   ]
  },
  {
   "cell_type": "code",
   "execution_count": 18,
   "id": "6d851d44",
   "metadata": {},
   "outputs": [
    {
     "data": {
      "text/plain": [
       "'COME'"
      ]
     },
     "execution_count": 18,
     "metadata": {},
     "output_type": "execute_result"
    }
   ],
   "source": [
    "s[3:]"
   ]
  },
  {
   "cell_type": "code",
   "execution_count": 19,
   "id": "529359f9",
   "metadata": {},
   "outputs": [
    {
     "data": {
      "text/plain": [
       "'COME'"
      ]
     },
     "execution_count": 19,
     "metadata": {},
     "output_type": "execute_result"
    }
   ],
   "source": [
    "s[3:100]"
   ]
  },
  {
   "cell_type": "code",
   "execution_count": null,
   "id": "3b53cacd",
   "metadata": {},
   "outputs": [],
   "source": []
  },
  {
   "cell_type": "code",
   "execution_count": 20,
   "id": "617ec127",
   "metadata": {},
   "outputs": [
    {
     "data": {
      "text/plain": [
       "'WEL'"
      ]
     },
     "execution_count": 20,
     "metadata": {},
     "output_type": "execute_result"
    }
   ],
   "source": [
    "# Nigative Indexing can also be used with slicing\n",
    "s[-7:-4]"
   ]
  },
  {
   "cell_type": "code",
   "execution_count": 21,
   "id": "efee3c85",
   "metadata": {},
   "outputs": [
    {
     "data": {
      "text/plain": [
       "''"
      ]
     },
     "execution_count": 21,
     "metadata": {},
     "output_type": "execute_result"
    }
   ],
   "source": [
    "s[-1:-4]"
   ]
  },
  {
   "cell_type": "code",
   "execution_count": 22,
   "id": "a37494d1",
   "metadata": {},
   "outputs": [
    {
     "data": {
      "text/plain": [
       "'WEL'"
      ]
     },
     "execution_count": 22,
     "metadata": {},
     "output_type": "execute_result"
    }
   ],
   "source": [
    "s[-7:3]"
   ]
  },
  {
   "cell_type": "code",
   "execution_count": 23,
   "id": "219773b5",
   "metadata": {},
   "outputs": [
    {
     "data": {
      "text/plain": [
       "'WEL'"
      ]
     },
     "execution_count": 23,
     "metadata": {},
     "output_type": "execute_result"
    }
   ],
   "source": [
    "s[-100:3]"
   ]
  },
  {
   "cell_type": "code",
   "execution_count": 24,
   "id": "b45a7ae1",
   "metadata": {},
   "outputs": [
    {
     "data": {
      "text/plain": [
       "'WELCOME'"
      ]
     },
     "execution_count": 24,
     "metadata": {},
     "output_type": "execute_result"
    }
   ],
   "source": [
    "s[:]"
   ]
  },
  {
   "cell_type": "code",
   "execution_count": 25,
   "id": "fc00bca9",
   "metadata": {},
   "outputs": [
    {
     "ename": "SyntaxError",
     "evalue": "invalid syntax (<ipython-input-25-d5d19ff545f3>, line 1)",
     "output_type": "error",
     "traceback": [
      "\u001b[1;36m  File \u001b[1;32m\"<ipython-input-25-d5d19ff545f3>\"\u001b[1;36m, line \u001b[1;32m1\u001b[0m\n\u001b[1;33m    s[]\u001b[0m\n\u001b[1;37m      ^\u001b[0m\n\u001b[1;31mSyntaxError\u001b[0m\u001b[1;31m:\u001b[0m invalid syntax\n"
     ]
    }
   ],
   "source": [
    "s[]"
   ]
  },
  {
   "cell_type": "code",
   "execution_count": 26,
   "id": "9997983a",
   "metadata": {},
   "outputs": [
    {
     "data": {
      "text/plain": [
       "'WLOE'"
      ]
     },
     "execution_count": 26,
     "metadata": {},
     "output_type": "execute_result"
    }
   ],
   "source": [
    "s[::2]"
   ]
  },
  {
   "cell_type": "code",
   "execution_count": 27,
   "id": "bc4cbce4",
   "metadata": {},
   "outputs": [
    {
     "data": {
      "text/plain": [
       "'EMOCLEW'"
      ]
     },
     "execution_count": 27,
     "metadata": {},
     "output_type": "execute_result"
    }
   ],
   "source": [
    "s[::-1]"
   ]
  },
  {
   "cell_type": "code",
   "execution_count": null,
   "id": "9486c8b5",
   "metadata": {},
   "outputs": [],
   "source": []
  },
  {
   "cell_type": "markdown",
   "id": "45ccac08",
   "metadata": {},
   "source": [
    "#### Excercise: Write a program to extract 'Class' from the below string\n",
    "msg = \"Welcome to Python Programming Class\"\n"
   ]
  },
  {
   "cell_type": "code",
   "execution_count": 28,
   "id": "3c852d8d",
   "metadata": {},
   "outputs": [],
   "source": [
    "msg = \"Welcome to Python Programming Class\""
   ]
  },
  {
   "cell_type": "code",
   "execution_count": 29,
   "id": "b1708da1",
   "metadata": {},
   "outputs": [
    {
     "data": {
      "text/plain": [
       "'Class'"
      ]
     },
     "execution_count": 29,
     "metadata": {},
     "output_type": "execute_result"
    }
   ],
   "source": [
    "msg[-5:]"
   ]
  },
  {
   "cell_type": "code",
   "execution_count": null,
   "id": "05009577",
   "metadata": {},
   "outputs": [],
   "source": []
  },
  {
   "cell_type": "code",
   "execution_count": 30,
   "id": "3673b92c",
   "metadata": {},
   "outputs": [
    {
     "data": {
      "text/plain": [
       "'WELCOME'"
      ]
     },
     "execution_count": 30,
     "metadata": {},
     "output_type": "execute_result"
    }
   ],
   "source": [
    "s"
   ]
  },
  {
   "cell_type": "code",
   "execution_count": 31,
   "id": "a7cf92aa",
   "metadata": {},
   "outputs": [
    {
     "ename": "TypeError",
     "evalue": "can only concatenate str (not \"int\") to str",
     "output_type": "error",
     "traceback": [
      "\u001b[1;31m---------------------------------------------------------------------------\u001b[0m",
      "\u001b[1;31mTypeError\u001b[0m                                 Traceback (most recent call last)",
      "\u001b[1;32m<ipython-input-31-30fc4c06cb2b>\u001b[0m in \u001b[0;36m<module>\u001b[1;34m\u001b[0m\n\u001b[1;32m----> 1\u001b[1;33m \u001b[0ms\u001b[0m \u001b[1;33m+\u001b[0m \u001b[1;36m10\u001b[0m\u001b[1;33m\u001b[0m\u001b[1;33m\u001b[0m\u001b[0m\n\u001b[0m",
      "\u001b[1;31mTypeError\u001b[0m: can only concatenate str (not \"int\") to str"
     ]
    }
   ],
   "source": [
    "s + 10"
   ]
  },
  {
   "cell_type": "code",
   "execution_count": 32,
   "id": "0bffc0ed",
   "metadata": {},
   "outputs": [
    {
     "data": {
      "text/plain": [
       "'WELCOME10'"
      ]
     },
     "execution_count": 32,
     "metadata": {},
     "output_type": "execute_result"
    }
   ],
   "source": [
    "s + \"10\""
   ]
  },
  {
   "cell_type": "code",
   "execution_count": 33,
   "id": "00e8f370",
   "metadata": {},
   "outputs": [
    {
     "data": {
      "text/plain": [
       "'WELCOME'"
      ]
     },
     "execution_count": 33,
     "metadata": {},
     "output_type": "execute_result"
    }
   ],
   "source": [
    "s"
   ]
  },
  {
   "cell_type": "code",
   "execution_count": 34,
   "id": "5e698e1a",
   "metadata": {},
   "outputs": [
    {
     "data": {
      "text/plain": [
       "'WELCOME10'"
      ]
     },
     "execution_count": 34,
     "metadata": {},
     "output_type": "execute_result"
    }
   ],
   "source": [
    "a = s+\"10\"\n",
    "a"
   ]
  },
  {
   "cell_type": "code",
   "execution_count": 35,
   "id": "36159b5a",
   "metadata": {},
   "outputs": [
    {
     "data": {
      "text/plain": [
       "14.5"
      ]
     },
     "execution_count": 35,
     "metadata": {},
     "output_type": "execute_result"
    }
   ],
   "source": [
    "10 + 4.5"
   ]
  },
  {
   "cell_type": "code",
   "execution_count": 36,
   "id": "4233be24",
   "metadata": {},
   "outputs": [
    {
     "data": {
      "text/plain": [
       "'WELCOMEWELCOMEWELCOME'"
      ]
     },
     "execution_count": 36,
     "metadata": {},
     "output_type": "execute_result"
    }
   ],
   "source": [
    "s * 3"
   ]
  },
  {
   "cell_type": "code",
   "execution_count": 37,
   "id": "5fdb4e82",
   "metadata": {},
   "outputs": [],
   "source": [
    "# can work either as a multiplication operator or repetition operator"
   ]
  },
  {
   "cell_type": "code",
   "execution_count": 38,
   "id": "fe8521e8",
   "metadata": {},
   "outputs": [
    {
     "data": {
      "text/plain": [
       "str"
      ]
     },
     "execution_count": 38,
     "metadata": {},
     "output_type": "execute_result"
    }
   ],
   "source": [
    "type(a)"
   ]
  },
  {
   "cell_type": "markdown",
   "id": "a6d6e87d",
   "metadata": {},
   "source": [
    "## List\n",
    "* Ordered Collection of items/elements/object\n",
    "* syntax: []\n",
    "* MUTABLE"
   ]
  },
  {
   "cell_type": "code",
   "execution_count": 39,
   "id": "7fc7e376",
   "metadata": {},
   "outputs": [],
   "source": [
    "languages = [\"C\",\"Cpp\",'java',\"C#\"]"
   ]
  },
  {
   "cell_type": "code",
   "execution_count": 40,
   "id": "6e41ac0b",
   "metadata": {},
   "outputs": [
    {
     "name": "stdout",
     "output_type": "stream",
     "text": [
      "<class 'list'>\n"
     ]
    }
   ],
   "source": [
    "print(type(languages))"
   ]
  },
  {
   "cell_type": "code",
   "execution_count": 41,
   "id": "eee3d198",
   "metadata": {},
   "outputs": [
    {
     "data": {
      "text/plain": [
       "['C', 'Cpp', 'java', 'C#']"
      ]
     },
     "execution_count": 41,
     "metadata": {},
     "output_type": "execute_result"
    }
   ],
   "source": [
    "languages"
   ]
  },
  {
   "cell_type": "code",
   "execution_count": 42,
   "id": "cf788952",
   "metadata": {},
   "outputs": [
    {
     "data": {
      "text/plain": [
       "4"
      ]
     },
     "execution_count": 42,
     "metadata": {},
     "output_type": "execute_result"
    }
   ],
   "source": [
    "len(languages)"
   ]
  },
  {
   "cell_type": "code",
   "execution_count": 43,
   "id": "2d583676",
   "metadata": {},
   "outputs": [
    {
     "data": {
      "text/plain": [
       "'C'"
      ]
     },
     "execution_count": 43,
     "metadata": {},
     "output_type": "execute_result"
    }
   ],
   "source": [
    "languages[0]"
   ]
  },
  {
   "cell_type": "code",
   "execution_count": 44,
   "id": "5f0d16d3",
   "metadata": {},
   "outputs": [
    {
     "data": {
      "text/plain": [
       "'C#'"
      ]
     },
     "execution_count": 44,
     "metadata": {},
     "output_type": "execute_result"
    }
   ],
   "source": [
    "languages[-1]"
   ]
  },
  {
   "cell_type": "code",
   "execution_count": 45,
   "id": "539effb2",
   "metadata": {},
   "outputs": [
    {
     "data": {
      "text/plain": [
       "'java'"
      ]
     },
     "execution_count": 45,
     "metadata": {},
     "output_type": "execute_result"
    }
   ],
   "source": [
    "languages[2]"
   ]
  },
  {
   "cell_type": "code",
   "execution_count": 46,
   "id": "673069ca",
   "metadata": {},
   "outputs": [
    {
     "data": {
      "text/plain": [
       "['C', 'Cpp']"
      ]
     },
     "execution_count": 46,
     "metadata": {},
     "output_type": "execute_result"
    }
   ],
   "source": [
    "languages[0:2]"
   ]
  },
  {
   "cell_type": "code",
   "execution_count": 47,
   "id": "4435b726",
   "metadata": {},
   "outputs": [
    {
     "ename": "TypeError",
     "evalue": "can only concatenate list (not \"int\") to list",
     "output_type": "error",
     "traceback": [
      "\u001b[1;31m---------------------------------------------------------------------------\u001b[0m",
      "\u001b[1;31mTypeError\u001b[0m                                 Traceback (most recent call last)",
      "\u001b[1;32m<ipython-input-47-cd258c513c2d>\u001b[0m in \u001b[0;36m<module>\u001b[1;34m\u001b[0m\n\u001b[1;32m----> 1\u001b[1;33m \u001b[0mlanguages\u001b[0m \u001b[1;33m+\u001b[0m \u001b[1;36m10\u001b[0m\u001b[1;33m\u001b[0m\u001b[1;33m\u001b[0m\u001b[0m\n\u001b[0m",
      "\u001b[1;31mTypeError\u001b[0m: can only concatenate list (not \"int\") to list"
     ]
    }
   ],
   "source": [
    "languages + 10"
   ]
  },
  {
   "cell_type": "code",
   "execution_count": 48,
   "id": "a4c13705",
   "metadata": {},
   "outputs": [
    {
     "data": {
      "text/plain": [
       "['C', 'Cpp', 'java', 'C#', 123]"
      ]
     },
     "execution_count": 48,
     "metadata": {},
     "output_type": "execute_result"
    }
   ],
   "source": [
    "languages + [123]"
   ]
  },
  {
   "cell_type": "code",
   "execution_count": 49,
   "id": "9821c343",
   "metadata": {},
   "outputs": [
    {
     "data": {
      "text/plain": [
       "['C', 'Cpp', 'java', 'C#', 'C', 'Cpp', 'java', 'C#', 'C', 'Cpp', 'java', 'C#']"
      ]
     },
     "execution_count": 49,
     "metadata": {},
     "output_type": "execute_result"
    }
   ],
   "source": [
    "languages * 3"
   ]
  },
  {
   "cell_type": "code",
   "execution_count": 50,
   "id": "14c52448",
   "metadata": {},
   "outputs": [
    {
     "data": {
      "text/plain": [
       "['C', 'Cpp', 'java', 'C#']"
      ]
     },
     "execution_count": 50,
     "metadata": {},
     "output_type": "execute_result"
    }
   ],
   "source": [
    "languages"
   ]
  },
  {
   "cell_type": "code",
   "execution_count": 51,
   "id": "774d531b",
   "metadata": {},
   "outputs": [
    {
     "data": {
      "text/plain": [
       "'C#'"
      ]
     },
     "execution_count": 51,
     "metadata": {},
     "output_type": "execute_result"
    }
   ],
   "source": [
    "languages[-1]"
   ]
  },
  {
   "cell_type": "code",
   "execution_count": 52,
   "id": "693da345",
   "metadata": {},
   "outputs": [
    {
     "data": {
      "text/plain": [
       "'C#'"
      ]
     },
     "execution_count": 52,
     "metadata": {},
     "output_type": "execute_result"
    }
   ],
   "source": [
    "a = languages[-1]\n",
    "a"
   ]
  },
  {
   "cell_type": "code",
   "execution_count": 53,
   "id": "44834d15",
   "metadata": {},
   "outputs": [
    {
     "data": {
      "text/plain": [
       "'#'"
      ]
     },
     "execution_count": 53,
     "metadata": {},
     "output_type": "execute_result"
    }
   ],
   "source": [
    "a[-1]"
   ]
  },
  {
   "cell_type": "code",
   "execution_count": 54,
   "id": "88c57319",
   "metadata": {},
   "outputs": [
    {
     "data": {
      "text/plain": [
       "'#'"
      ]
     },
     "execution_count": 54,
     "metadata": {},
     "output_type": "execute_result"
    }
   ],
   "source": [
    "languages[-1][1]"
   ]
  },
  {
   "cell_type": "markdown",
   "id": "fa988c86",
   "metadata": {},
   "source": [
    "### Append\n",
    "* Always add an element at the end of the list"
   ]
  },
  {
   "cell_type": "code",
   "execution_count": 55,
   "id": "ce82ffe9",
   "metadata": {},
   "outputs": [],
   "source": [
    "languages.append(\"python\")"
   ]
  },
  {
   "cell_type": "code",
   "execution_count": 56,
   "id": "404b888f",
   "metadata": {},
   "outputs": [
    {
     "data": {
      "text/plain": [
       "['C', 'Cpp', 'java', 'C#', 'python']"
      ]
     },
     "execution_count": 56,
     "metadata": {},
     "output_type": "execute_result"
    }
   ],
   "source": [
    "languages"
   ]
  },
  {
   "cell_type": "markdown",
   "id": "af66e618",
   "metadata": {},
   "source": [
    "### Insert\n",
    "* Insert at specified index"
   ]
  },
  {
   "cell_type": "code",
   "execution_count": 57,
   "id": "ac23c23d",
   "metadata": {},
   "outputs": [],
   "source": [
    "languages.insert(2, \"Ryby\")"
   ]
  },
  {
   "cell_type": "code",
   "execution_count": 58,
   "id": "95872d34",
   "metadata": {},
   "outputs": [
    {
     "data": {
      "text/plain": [
       "['C', 'Cpp', 'Ryby', 'java', 'C#', 'python']"
      ]
     },
     "execution_count": 58,
     "metadata": {},
     "output_type": "execute_result"
    }
   ],
   "source": [
    "languages"
   ]
  },
  {
   "cell_type": "code",
   "execution_count": 59,
   "id": "4e69b85b",
   "metadata": {},
   "outputs": [],
   "source": [
    "languages.insert(0, \"Pascal\")"
   ]
  },
  {
   "cell_type": "code",
   "execution_count": 60,
   "id": "d23303fe",
   "metadata": {},
   "outputs": [
    {
     "data": {
      "text/plain": [
       "['Pascal', 'C', 'Cpp', 'Ryby', 'java', 'C#', 'python']"
      ]
     },
     "execution_count": 60,
     "metadata": {},
     "output_type": "execute_result"
    }
   ],
   "source": [
    "languages"
   ]
  },
  {
   "cell_type": "code",
   "execution_count": 62,
   "id": "bc440612",
   "metadata": {},
   "outputs": [],
   "source": [
    "# Add an element after C#, Scala using -ve index"
   ]
  },
  {
   "cell_type": "code",
   "execution_count": null,
   "id": "88cf9c1c",
   "metadata": {},
   "outputs": [],
   "source": []
  },
  {
   "cell_type": "code",
   "execution_count": 63,
   "id": "20bf5ebe",
   "metadata": {},
   "outputs": [
    {
     "name": "stdout",
     "output_type": "stream",
     "text": [
      "Help on built-in function insert:\n",
      "\n",
      "insert(index, object, /) method of builtins.list instance\n",
      "    Insert object before index.\n",
      "\n"
     ]
    }
   ],
   "source": [
    "help(languages.insert)"
   ]
  },
  {
   "cell_type": "code",
   "execution_count": 64,
   "id": "f0a17825",
   "metadata": {},
   "outputs": [],
   "source": [
    "languages.insert(-1, \"scala\")"
   ]
  },
  {
   "cell_type": "code",
   "execution_count": 65,
   "id": "3c71470c",
   "metadata": {},
   "outputs": [
    {
     "data": {
      "text/plain": [
       "['Pascal', 'C', 'Cpp', 'Ryby', 'java', 'C#', 'scala', 'python']"
      ]
     },
     "execution_count": 65,
     "metadata": {},
     "output_type": "execute_result"
    }
   ],
   "source": [
    "languages"
   ]
  },
  {
   "cell_type": "code",
   "execution_count": 66,
   "id": "340a92e7",
   "metadata": {},
   "outputs": [],
   "source": [
    "languages.insert(-2, \"Golang\")"
   ]
  },
  {
   "cell_type": "code",
   "execution_count": 67,
   "id": "d6fcc31c",
   "metadata": {},
   "outputs": [
    {
     "ename": "TypeError",
     "evalue": "insert expected 2 arguments, got 1",
     "output_type": "error",
     "traceback": [
      "\u001b[1;31m---------------------------------------------------------------------------\u001b[0m",
      "\u001b[1;31mTypeError\u001b[0m                                 Traceback (most recent call last)",
      "\u001b[1;32m<ipython-input-67-e290eb3d336e>\u001b[0m in \u001b[0;36m<module>\u001b[1;34m\u001b[0m\n\u001b[1;32m----> 1\u001b[1;33m \u001b[0mlanguages\u001b[0m\u001b[1;33m.\u001b[0m\u001b[0minsert\u001b[0m\u001b[1;33m(\u001b[0m\u001b[1;34m\"Mylang\"\u001b[0m\u001b[1;33m)\u001b[0m\u001b[1;33m\u001b[0m\u001b[1;33m\u001b[0m\u001b[0m\n\u001b[0m",
      "\u001b[1;31mTypeError\u001b[0m: insert expected 2 arguments, got 1"
     ]
    }
   ],
   "source": [
    "languages.insert(\"Mylang\")"
   ]
  },
  {
   "cell_type": "code",
   "execution_count": null,
   "id": "862984ed",
   "metadata": {},
   "outputs": [],
   "source": []
  },
  {
   "cell_type": "markdown",
   "id": "c929e944",
   "metadata": {},
   "source": [
    "### Remove\n",
    "*remove based on values"
   ]
  },
  {
   "cell_type": "code",
   "execution_count": 68,
   "id": "a9bf463f",
   "metadata": {},
   "outputs": [
    {
     "name": "stdout",
     "output_type": "stream",
     "text": [
      "Help on method_descriptor:\n",
      "\n",
      "remove(self, value, /)\n",
      "    Remove first occurrence of value.\n",
      "    \n",
      "    Raises ValueError if the value is not present.\n",
      "\n"
     ]
    }
   ],
   "source": [
    "help(list.remove)"
   ]
  },
  {
   "cell_type": "code",
   "execution_count": 69,
   "id": "744f697d",
   "metadata": {},
   "outputs": [
    {
     "data": {
      "text/plain": [
       "['Pascal', 'C', 'Cpp', 'Ryby', 'java', 'C#', 'Golang', 'scala', 'python']"
      ]
     },
     "execution_count": 69,
     "metadata": {},
     "output_type": "execute_result"
    }
   ],
   "source": [
    "languages"
   ]
  },
  {
   "cell_type": "code",
   "execution_count": 71,
   "id": "a7787581",
   "metadata": {},
   "outputs": [],
   "source": [
    "languages.remove(\"Ryby\")"
   ]
  },
  {
   "cell_type": "code",
   "execution_count": 72,
   "id": "7f2eabf6",
   "metadata": {},
   "outputs": [
    {
     "data": {
      "text/plain": [
       "['Pascal', 'C', 'Cpp', 'java', 'C#', 'Golang', 'scala', 'python']"
      ]
     },
     "execution_count": 72,
     "metadata": {},
     "output_type": "execute_result"
    }
   ],
   "source": [
    "languages"
   ]
  },
  {
   "cell_type": "code",
   "execution_count": null,
   "id": "2e3b25be",
   "metadata": {},
   "outputs": [],
   "source": []
  },
  {
   "cell_type": "markdown",
   "id": "9ef61017",
   "metadata": {},
   "source": [
    "### Pop\n",
    "* remove besed on index by default the index i s -1"
   ]
  },
  {
   "cell_type": "code",
   "execution_count": 73,
   "id": "cd2af709",
   "metadata": {},
   "outputs": [
    {
     "data": {
      "text/plain": [
       "'Cpp'"
      ]
     },
     "execution_count": 73,
     "metadata": {},
     "output_type": "execute_result"
    }
   ],
   "source": [
    "languages.pop(2)"
   ]
  },
  {
   "cell_type": "code",
   "execution_count": 74,
   "id": "985ae851",
   "metadata": {},
   "outputs": [
    {
     "data": {
      "text/plain": [
       "'python'"
      ]
     },
     "execution_count": 74,
     "metadata": {},
     "output_type": "execute_result"
    }
   ],
   "source": [
    "languages.pop()"
   ]
  },
  {
   "cell_type": "code",
   "execution_count": 75,
   "id": "b38d272c",
   "metadata": {},
   "outputs": [
    {
     "data": {
      "text/plain": [
       "['Pascal', 'C', 'java', 'C#', 'Golang', 'scala']"
      ]
     },
     "execution_count": 75,
     "metadata": {},
     "output_type": "execute_result"
    }
   ],
   "source": [
    "languages"
   ]
  },
  {
   "cell_type": "markdown",
   "id": "ff7cc292",
   "metadata": {},
   "source": [
    "### Delete\n",
    "* Using the keyword"
   ]
  },
  {
   "cell_type": "code",
   "execution_count": 76,
   "id": "e3d1cf54",
   "metadata": {},
   "outputs": [
    {
     "data": {
      "text/plain": [
       "['Pascal', 'C', 'java', 'C#', 'Golang', 'scala']"
      ]
     },
     "execution_count": 76,
     "metadata": {},
     "output_type": "execute_result"
    }
   ],
   "source": [
    "languages"
   ]
  },
  {
   "cell_type": "code",
   "execution_count": 77,
   "id": "93ba4746",
   "metadata": {},
   "outputs": [],
   "source": [
    "del languages[2]"
   ]
  },
  {
   "cell_type": "code",
   "execution_count": 78,
   "id": "65b3a6af",
   "metadata": {},
   "outputs": [
    {
     "data": {
      "text/plain": [
       "['Pascal', 'C', 'C#', 'Golang', 'scala']"
      ]
     },
     "execution_count": 78,
     "metadata": {},
     "output_type": "execute_result"
    }
   ],
   "source": [
    "languages"
   ]
  },
  {
   "cell_type": "code",
   "execution_count": 79,
   "id": "a6ec1e56",
   "metadata": {},
   "outputs": [],
   "source": [
    "del languages[0:2]"
   ]
  },
  {
   "cell_type": "code",
   "execution_count": 80,
   "id": "f4554f21",
   "metadata": {},
   "outputs": [
    {
     "data": {
      "text/plain": [
       "['C#', 'Golang', 'scala']"
      ]
     },
     "execution_count": 80,
     "metadata": {},
     "output_type": "execute_result"
    }
   ],
   "source": [
    "languages"
   ]
  },
  {
   "cell_type": "code",
   "execution_count": 81,
   "id": "04d5b8f3",
   "metadata": {},
   "outputs": [
    {
     "data": {
      "text/plain": [
       "'Go'"
      ]
     },
     "execution_count": 81,
     "metadata": {},
     "output_type": "execute_result"
    }
   ],
   "source": [
    "languages[1][0:2]"
   ]
  },
  {
   "cell_type": "code",
   "execution_count": null,
   "id": "d134d930",
   "metadata": {},
   "outputs": [],
   "source": [
    "#languages = ['C#', 'Golang', 'scala']"
   ]
  },
  {
   "cell_type": "code",
   "execution_count": 82,
   "id": "0d9f989f",
   "metadata": {},
   "outputs": [],
   "source": [
    "numlist = [100, 200, 300]"
   ]
  },
  {
   "cell_type": "code",
   "execution_count": 83,
   "id": "985640b4",
   "metadata": {},
   "outputs": [],
   "source": [
    "languages.append(numlist)"
   ]
  },
  {
   "cell_type": "code",
   "execution_count": 84,
   "id": "6dd5d415",
   "metadata": {},
   "outputs": [
    {
     "data": {
      "text/plain": [
       "['C#', 'Golang', 'scala', [100, 200, 300]]"
      ]
     },
     "execution_count": 84,
     "metadata": {},
     "output_type": "execute_result"
    }
   ],
   "source": [
    "languages"
   ]
  },
  {
   "cell_type": "code",
   "execution_count": 85,
   "id": "698aa012",
   "metadata": {},
   "outputs": [
    {
     "data": {
      "text/plain": [
       "200"
      ]
     },
     "execution_count": 85,
     "metadata": {},
     "output_type": "execute_result"
    }
   ],
   "source": [
    "languages[3][1]"
   ]
  },
  {
   "cell_type": "code",
   "execution_count": 86,
   "id": "48100c56",
   "metadata": {},
   "outputs": [
    {
     "data": {
      "text/plain": [
       "[100, 200, 300]"
      ]
     },
     "execution_count": 86,
     "metadata": {},
     "output_type": "execute_result"
    }
   ],
   "source": [
    "languages[-1]"
   ]
  },
  {
   "cell_type": "code",
   "execution_count": 87,
   "id": "16500bab",
   "metadata": {},
   "outputs": [
    {
     "data": {
      "text/plain": [
       "300"
      ]
     },
     "execution_count": 87,
     "metadata": {},
     "output_type": "execute_result"
    }
   ],
   "source": [
    "languages[-1][-1]"
   ]
  },
  {
   "cell_type": "code",
   "execution_count": 88,
   "id": "00d3f66a",
   "metadata": {},
   "outputs": [
    {
     "data": {
      "text/plain": [
       "'WELCOME'"
      ]
     },
     "execution_count": 88,
     "metadata": {},
     "output_type": "execute_result"
    }
   ],
   "source": [
    "s"
   ]
  },
  {
   "cell_type": "code",
   "execution_count": 89,
   "id": "a8cdb4ef",
   "metadata": {},
   "outputs": [],
   "source": [
    "languages.append(s)"
   ]
  },
  {
   "cell_type": "code",
   "execution_count": 90,
   "id": "2d89bc9f",
   "metadata": {},
   "outputs": [
    {
     "data": {
      "text/plain": [
       "['C#', 'Golang', 'scala', [100, 200, 300], 'WELCOME']"
      ]
     },
     "execution_count": 90,
     "metadata": {},
     "output_type": "execute_result"
    }
   ],
   "source": [
    "languages"
   ]
  },
  {
   "cell_type": "code",
   "execution_count": null,
   "id": "eec62ee6",
   "metadata": {},
   "outputs": [],
   "source": []
  },
  {
   "cell_type": "markdown",
   "id": "495609cb",
   "metadata": {},
   "source": [
    "### Extend\n",
    "* extends the list with the elements of the container/object passed\n",
    "* increases the length of list by the len of the container/object passed"
   ]
  },
  {
   "cell_type": "code",
   "execution_count": 92,
   "id": "19aa14a9",
   "metadata": {},
   "outputs": [],
   "source": [
    "languages.extend(numlist)"
   ]
  },
  {
   "cell_type": "code",
   "execution_count": 101,
   "id": "3eb48b8c",
   "metadata": {},
   "outputs": [],
   "source": [
    "languages.extend(s)"
   ]
  },
  {
   "cell_type": "code",
   "execution_count": 102,
   "id": "c22f77fd",
   "metadata": {},
   "outputs": [
    {
     "data": {
      "text/plain": [
       "['C#',\n",
       " 'Golang',\n",
       " 'scala',\n",
       " [100, 200, 300],\n",
       " 'WELCOME',\n",
       " 100,\n",
       " 200,\n",
       " 300,\n",
       " 'W',\n",
       " 'E',\n",
       " 'L',\n",
       " 'C',\n",
       " 'O',\n",
       " 'M',\n",
       " 'E']"
      ]
     },
     "execution_count": 102,
     "metadata": {},
     "output_type": "execute_result"
    }
   ],
   "source": [
    "languages"
   ]
  },
  {
   "cell_type": "code",
   "execution_count": 91,
   "id": "6296c59c",
   "metadata": {},
   "outputs": [
    {
     "data": {
      "text/plain": [
       "5"
      ]
     },
     "execution_count": 91,
     "metadata": {},
     "output_type": "execute_result"
    }
   ],
   "source": [
    "len(languages)"
   ]
  },
  {
   "cell_type": "code",
   "execution_count": 93,
   "id": "b063f3db",
   "metadata": {},
   "outputs": [
    {
     "data": {
      "text/plain": [
       "['C#', 'Golang', 'scala', [100, 200, 300], 'WELCOME', 100, 200, 300]"
      ]
     },
     "execution_count": 93,
     "metadata": {},
     "output_type": "execute_result"
    }
   ],
   "source": [
    "languages"
   ]
  },
  {
   "cell_type": "code",
   "execution_count": null,
   "id": "294883ac",
   "metadata": {},
   "outputs": [],
   "source": [
    "# extend:add every elements of list\n",
    "# append:add list"
   ]
  },
  {
   "cell_type": "markdown",
   "id": "5d01120a",
   "metadata": {},
   "source": [
    "### Count"
   ]
  },
  {
   "cell_type": "code",
   "execution_count": 94,
   "id": "e8facef6",
   "metadata": {},
   "outputs": [
    {
     "data": {
      "text/plain": [
       "['C#', 'Golang', 'scala', [100, 200, 300], 'WELCOME', 100, 200, 300]"
      ]
     },
     "execution_count": 94,
     "metadata": {},
     "output_type": "execute_result"
    }
   ],
   "source": [
    "languages"
   ]
  },
  {
   "cell_type": "code",
   "execution_count": 103,
   "id": "59e57b49",
   "metadata": {},
   "outputs": [
    {
     "data": {
      "text/plain": [
       "2"
      ]
     },
     "execution_count": 103,
     "metadata": {},
     "output_type": "execute_result"
    }
   ],
   "source": [
    "languages.count(\"E\")"
   ]
  },
  {
   "cell_type": "code",
   "execution_count": 104,
   "id": "41d34f81",
   "metadata": {},
   "outputs": [
    {
     "data": {
      "text/plain": [
       "0"
      ]
     },
     "execution_count": 104,
     "metadata": {},
     "output_type": "execute_result"
    }
   ],
   "source": [
    "languages.count(\"e\")"
   ]
  },
  {
   "cell_type": "code",
   "execution_count": 105,
   "id": "4e93c2f6",
   "metadata": {},
   "outputs": [
    {
     "data": {
      "text/plain": [
       "1"
      ]
     },
     "execution_count": 105,
     "metadata": {},
     "output_type": "execute_result"
    }
   ],
   "source": [
    "languages.count(100)"
   ]
  },
  {
   "cell_type": "code",
   "execution_count": 106,
   "id": "05e019aa",
   "metadata": {},
   "outputs": [
    {
     "data": {
      "text/plain": [
       "1"
      ]
     },
     "execution_count": 106,
     "metadata": {},
     "output_type": "execute_result"
    }
   ],
   "source": [
    "languages.count(300)"
   ]
  },
  {
   "cell_type": "code",
   "execution_count": null,
   "id": "fba1ae3f",
   "metadata": {},
   "outputs": [],
   "source": []
  },
  {
   "cell_type": "code",
   "execution_count": 107,
   "id": "af4c3305",
   "metadata": {},
   "outputs": [
    {
     "data": {
      "text/plain": [
       "'WELCOME'"
      ]
     },
     "execution_count": 107,
     "metadata": {},
     "output_type": "execute_result"
    }
   ],
   "source": [
    "s"
   ]
  },
  {
   "cell_type": "code",
   "execution_count": 109,
   "id": "edcd7562",
   "metadata": {},
   "outputs": [
    {
     "ename": "TypeError",
     "evalue": "'str' object does not support item assignment",
     "output_type": "error",
     "traceback": [
      "\u001b[1;31m---------------------------------------------------------------------------\u001b[0m",
      "\u001b[1;31mTypeError\u001b[0m                                 Traceback (most recent call last)",
      "\u001b[1;32m<ipython-input-109-af1f7896462d>\u001b[0m in \u001b[0;36m<module>\u001b[1;34m\u001b[0m\n\u001b[1;32m----> 1\u001b[1;33m \u001b[0ms\u001b[0m\u001b[1;33m[\u001b[0m\u001b[1;36m0\u001b[0m\u001b[1;33m]\u001b[0m \u001b[1;33m=\u001b[0m \u001b[1;34m'Z'\u001b[0m\u001b[1;33m\u001b[0m\u001b[1;33m\u001b[0m\u001b[0m\n\u001b[0m",
      "\u001b[1;31mTypeError\u001b[0m: 'str' object does not support item assignment"
     ]
    }
   ],
   "source": [
    "s[0] = 'Z'"
   ]
  },
  {
   "cell_type": "code",
   "execution_count": 110,
   "id": "15d1de50",
   "metadata": {},
   "outputs": [],
   "source": [
    "s = \"ZELCOME\""
   ]
  },
  {
   "cell_type": "code",
   "execution_count": 111,
   "id": "f35f5456",
   "metadata": {},
   "outputs": [
    {
     "data": {
      "text/plain": [
       "'ZELCOME'"
      ]
     },
     "execution_count": 111,
     "metadata": {},
     "output_type": "execute_result"
    }
   ],
   "source": [
    "s"
   ]
  },
  {
   "cell_type": "code",
   "execution_count": 112,
   "id": "9a056c10",
   "metadata": {},
   "outputs": [
    {
     "ename": "TypeError",
     "evalue": "'str' object does not support item assignment",
     "output_type": "error",
     "traceback": [
      "\u001b[1;31m---------------------------------------------------------------------------\u001b[0m",
      "\u001b[1;31mTypeError\u001b[0m                                 Traceback (most recent call last)",
      "\u001b[1;32m<ipython-input-112-1b51b446e125>\u001b[0m in \u001b[0;36m<module>\u001b[1;34m\u001b[0m\n\u001b[1;32m----> 1\u001b[1;33m \u001b[0ms\u001b[0m\u001b[1;33m[\u001b[0m\u001b[1;33m-\u001b[0m\u001b[1;36m1\u001b[0m\u001b[1;33m]\u001b[0m\u001b[1;33m=\u001b[0m\u001b[1;34m'E'\u001b[0m\u001b[1;33m\u001b[0m\u001b[1;33m\u001b[0m\u001b[0m\n\u001b[0m",
      "\u001b[1;31mTypeError\u001b[0m: 'str' object does not support item assignment"
     ]
    }
   ],
   "source": [
    "s[-1]='E'"
   ]
  },
  {
   "cell_type": "code",
   "execution_count": 114,
   "id": "ea6e8522",
   "metadata": {},
   "outputs": [
    {
     "data": {
      "text/plain": [
       "'ZELCOME'"
      ]
     },
     "execution_count": 114,
     "metadata": {},
     "output_type": "execute_result"
    }
   ],
   "source": [
    "s"
   ]
  },
  {
   "cell_type": "code",
   "execution_count": 115,
   "id": "8675c400",
   "metadata": {},
   "outputs": [
    {
     "data": {
      "text/plain": [
       "'WELCOME'"
      ]
     },
     "execution_count": 115,
     "metadata": {},
     "output_type": "execute_result"
    }
   ],
   "source": [
    "s.replace(\"Z\",\"W\")"
   ]
  },
  {
   "cell_type": "code",
   "execution_count": 116,
   "id": "926001db",
   "metadata": {},
   "outputs": [
    {
     "data": {
      "text/plain": [
       "'ZELCOME'"
      ]
     },
     "execution_count": 116,
     "metadata": {},
     "output_type": "execute_result"
    }
   ],
   "source": [
    "s"
   ]
  },
  {
   "cell_type": "code",
   "execution_count": null,
   "id": "0dc6da18",
   "metadata": {},
   "outputs": [],
   "source": []
  },
  {
   "cell_type": "code",
   "execution_count": 117,
   "id": "2d3db4f3",
   "metadata": {},
   "outputs": [],
   "source": [
    "s = \"WELCOME\""
   ]
  },
  {
   "cell_type": "code",
   "execution_count": 118,
   "id": "00d9ad3a",
   "metadata": {},
   "outputs": [
    {
     "data": {
      "text/plain": [
       "2007128100528"
      ]
     },
     "execution_count": 118,
     "metadata": {},
     "output_type": "execute_result"
    }
   ],
   "source": [
    "id(s)"
   ]
  },
  {
   "cell_type": "code",
   "execution_count": 119,
   "id": "20321ecc",
   "metadata": {},
   "outputs": [],
   "source": [
    "s = \"ZELCOME\""
   ]
  },
  {
   "cell_type": "code",
   "execution_count": 120,
   "id": "e55403e2",
   "metadata": {},
   "outputs": [
    {
     "data": {
      "text/plain": [
       "2007144651888"
      ]
     },
     "execution_count": 120,
     "metadata": {},
     "output_type": "execute_result"
    }
   ],
   "source": [
    "id(s)"
   ]
  },
  {
   "cell_type": "code",
   "execution_count": 121,
   "id": "55b94c9f",
   "metadata": {},
   "outputs": [
    {
     "data": {
      "text/plain": [
       "'ZELCOME'"
      ]
     },
     "execution_count": 121,
     "metadata": {},
     "output_type": "execute_result"
    }
   ],
   "source": [
    "s"
   ]
  },
  {
   "cell_type": "code",
   "execution_count": 122,
   "id": "cc221ca4",
   "metadata": {},
   "outputs": [
    {
     "data": {
      "text/plain": [
       "2007144252016"
      ]
     },
     "execution_count": 122,
     "metadata": {},
     "output_type": "execute_result"
    }
   ],
   "source": [
    "id(s.replace(\"Z\",\"D\"))"
   ]
  },
  {
   "cell_type": "code",
   "execution_count": 124,
   "id": "9a50ca2c",
   "metadata": {},
   "outputs": [],
   "source": [
    "# Refernce Counting machanism\n",
    "\n",
    "a = \"July\""
   ]
  },
  {
   "cell_type": "code",
   "execution_count": 125,
   "id": "f623503e",
   "metadata": {},
   "outputs": [
    {
     "data": {
      "text/plain": [
       "2007125808624"
      ]
     },
     "execution_count": 125,
     "metadata": {},
     "output_type": "execute_result"
    }
   ],
   "source": [
    "id(a)"
   ]
  },
  {
   "cell_type": "code",
   "execution_count": 126,
   "id": "9a339b1a",
   "metadata": {},
   "outputs": [],
   "source": [
    "b = \"July\""
   ]
  },
  {
   "cell_type": "code",
   "execution_count": 127,
   "id": "6e3e0418",
   "metadata": {},
   "outputs": [
    {
     "data": {
      "text/plain": [
       "2007125808624"
      ]
     },
     "execution_count": 127,
     "metadata": {},
     "output_type": "execute_result"
    }
   ],
   "source": [
    "id(b)"
   ]
  },
  {
   "cell_type": "code",
   "execution_count": 130,
   "id": "11e16929",
   "metadata": {},
   "outputs": [],
   "source": [
    "a = \"Jul\""
   ]
  },
  {
   "cell_type": "code",
   "execution_count": 131,
   "id": "318553cd",
   "metadata": {},
   "outputs": [
    {
     "data": {
      "text/plain": [
       "2007103063792"
      ]
     },
     "execution_count": 131,
     "metadata": {},
     "output_type": "execute_result"
    }
   ],
   "source": [
    "id(a)"
   ]
  },
  {
   "cell_type": "code",
   "execution_count": 132,
   "id": "0bb3c4f6",
   "metadata": {},
   "outputs": [],
   "source": [
    "a = \"June\""
   ]
  },
  {
   "cell_type": "code",
   "execution_count": 133,
   "id": "1ebe5fd0",
   "metadata": {},
   "outputs": [
    {
     "data": {
      "text/plain": [
       "2007125808496"
      ]
     },
     "execution_count": 133,
     "metadata": {},
     "output_type": "execute_result"
    }
   ],
   "source": [
    "id(a)"
   ]
  },
  {
   "cell_type": "code",
   "execution_count": null,
   "id": "6aeb4d9f",
   "metadata": {},
   "outputs": [],
   "source": []
  },
  {
   "cell_type": "code",
   "execution_count": 134,
   "id": "b781a14f",
   "metadata": {},
   "outputs": [
    {
     "data": {
      "text/plain": [
       "['C#',\n",
       " 'Golang',\n",
       " 'scala',\n",
       " [100, 200, 300],\n",
       " 'WELCOME',\n",
       " 100,\n",
       " 200,\n",
       " 300,\n",
       " 'W',\n",
       " 'E',\n",
       " 'L',\n",
       " 'C',\n",
       " 'O',\n",
       " 'M',\n",
       " 'E']"
      ]
     },
     "execution_count": 134,
     "metadata": {},
     "output_type": "execute_result"
    }
   ],
   "source": [
    "languages"
   ]
  },
  {
   "cell_type": "markdown",
   "id": "a7a3f051",
   "metadata": {},
   "source": [
    "### Sort"
   ]
  },
  {
   "cell_type": "code",
   "execution_count": 135,
   "id": "c68e6c43",
   "metadata": {},
   "outputs": [],
   "source": [
    "languages = [\"C\", \"Ruby\", \"Perl\", \"Python\", \"Java\"]"
   ]
  },
  {
   "cell_type": "code",
   "execution_count": 136,
   "id": "1a5303dc",
   "metadata": {},
   "outputs": [],
   "source": [
    "languages.sort()"
   ]
  },
  {
   "cell_type": "code",
   "execution_count": 137,
   "id": "e344c425",
   "metadata": {},
   "outputs": [
    {
     "data": {
      "text/plain": [
       "['C', 'Java', 'Perl', 'Python', 'Ruby']"
      ]
     },
     "execution_count": 137,
     "metadata": {},
     "output_type": "execute_result"
    }
   ],
   "source": [
    "languages"
   ]
  },
  {
   "cell_type": "code",
   "execution_count": 138,
   "id": "1f934dcc",
   "metadata": {},
   "outputs": [],
   "source": [
    "languages.sort(reverse=True)"
   ]
  },
  {
   "cell_type": "markdown",
   "id": "113c4561",
   "metadata": {},
   "source": [
    "#### Reverse"
   ]
  },
  {
   "cell_type": "code",
   "execution_count": 139,
   "id": "82c6e69a",
   "metadata": {},
   "outputs": [
    {
     "data": {
      "text/plain": [
       "['Ruby', 'Python', 'Perl', 'Java', 'C']"
      ]
     },
     "execution_count": 139,
     "metadata": {},
     "output_type": "execute_result"
    }
   ],
   "source": [
    "languages"
   ]
  },
  {
   "cell_type": "code",
   "execution_count": 140,
   "id": "362766e9",
   "metadata": {},
   "outputs": [],
   "source": [
    "languages.reverse()"
   ]
  },
  {
   "cell_type": "code",
   "execution_count": 141,
   "id": "a619946e",
   "metadata": {},
   "outputs": [
    {
     "data": {
      "text/plain": [
       "['C', 'Java', 'Perl', 'Python', 'Ruby']"
      ]
     },
     "execution_count": 141,
     "metadata": {},
     "output_type": "execute_result"
    }
   ],
   "source": [
    "languages"
   ]
  },
  {
   "cell_type": "code",
   "execution_count": null,
   "id": "9c065a7d",
   "metadata": {},
   "outputs": [],
   "source": []
  },
  {
   "cell_type": "code",
   "execution_count": null,
   "id": "82ee858b",
   "metadata": {},
   "outputs": [],
   "source": []
  },
  {
   "cell_type": "markdown",
   "id": "c0efe393",
   "metadata": {},
   "source": [
    "## Tuple\n",
    "* Ordered collection of items\n",
    "* syntax: ()\n",
    "* IMMUTABLE"
   ]
  },
  {
   "cell_type": "code",
   "execution_count": 142,
   "id": "68f09ee4",
   "metadata": {},
   "outputs": [],
   "source": [
    "vaccines = ('Covaxin', 'Covishield', 'Sputnik')"
   ]
  },
  {
   "cell_type": "code",
   "execution_count": 143,
   "id": "d0c20851",
   "metadata": {},
   "outputs": [
    {
     "data": {
      "text/plain": [
       "('Covaxin', 'Covishield', 'Sputnik')"
      ]
     },
     "execution_count": 143,
     "metadata": {},
     "output_type": "execute_result"
    }
   ],
   "source": [
    "vaccines"
   ]
  },
  {
   "cell_type": "code",
   "execution_count": 144,
   "id": "3c2625a6",
   "metadata": {},
   "outputs": [
    {
     "data": {
      "text/plain": [
       "tuple"
      ]
     },
     "execution_count": 144,
     "metadata": {},
     "output_type": "execute_result"
    }
   ],
   "source": [
    "type(vaccines)"
   ]
  },
  {
   "cell_type": "code",
   "execution_count": 145,
   "id": "4561b96c",
   "metadata": {},
   "outputs": [
    {
     "data": {
      "text/plain": [
       "3"
      ]
     },
     "execution_count": 145,
     "metadata": {},
     "output_type": "execute_result"
    }
   ],
   "source": [
    "len(vaccines)"
   ]
  },
  {
   "cell_type": "code",
   "execution_count": 149,
   "id": "be91af27",
   "metadata": {},
   "outputs": [
    {
     "data": {
      "text/plain": [
       "'Covaxin'"
      ]
     },
     "execution_count": 149,
     "metadata": {},
     "output_type": "execute_result"
    }
   ],
   "source": [
    "vaccines[0]"
   ]
  },
  {
   "cell_type": "code",
   "execution_count": 150,
   "id": "4e8f5433",
   "metadata": {},
   "outputs": [
    {
     "data": {
      "text/plain": [
       "'Sputnik'"
      ]
     },
     "execution_count": 150,
     "metadata": {},
     "output_type": "execute_result"
    }
   ],
   "source": [
    "vaccines[-1]"
   ]
  },
  {
   "cell_type": "code",
   "execution_count": 151,
   "id": "5fe95be8",
   "metadata": {},
   "outputs": [
    {
     "data": {
      "text/plain": [
       "('Covaxin', 'Covishield')"
      ]
     },
     "execution_count": 151,
     "metadata": {},
     "output_type": "execute_result"
    }
   ],
   "source": [
    "vaccines[0:2]"
   ]
  },
  {
   "cell_type": "code",
   "execution_count": 152,
   "id": "623a60ee",
   "metadata": {},
   "outputs": [
    {
     "data": {
      "text/plain": [
       "1"
      ]
     },
     "execution_count": 152,
     "metadata": {},
     "output_type": "execute_result"
    }
   ],
   "source": [
    "vaccines.count(\"Covaxin\")"
   ]
  },
  {
   "cell_type": "code",
   "execution_count": 153,
   "id": "c2136f3c",
   "metadata": {},
   "outputs": [
    {
     "data": {
      "text/plain": [
       "2"
      ]
     },
     "execution_count": 153,
     "metadata": {},
     "output_type": "execute_result"
    }
   ],
   "source": [
    "vaccines.index(\"Sputnik\")"
   ]
  },
  {
   "cell_type": "code",
   "execution_count": 154,
   "id": "cbe38eec",
   "metadata": {},
   "outputs": [
    {
     "data": {
      "text/plain": [
       "('Covaxin', 'Covishield', 'Sputnik')"
      ]
     },
     "execution_count": 154,
     "metadata": {},
     "output_type": "execute_result"
    }
   ],
   "source": [
    "vaccines"
   ]
  },
  {
   "cell_type": "code",
   "execution_count": 155,
   "id": "0acdec77",
   "metadata": {},
   "outputs": [
    {
     "data": {
      "text/plain": [
       "('Covishield',)"
      ]
     },
     "execution_count": 155,
     "metadata": {},
     "output_type": "execute_result"
    }
   ],
   "source": [
    "vaccines[1:2]"
   ]
  },
  {
   "cell_type": "code",
   "execution_count": 156,
   "id": "08eb8286",
   "metadata": {},
   "outputs": [
    {
     "data": {
      "text/plain": [
       "('Covaxin', 'Covishield')"
      ]
     },
     "execution_count": 156,
     "metadata": {},
     "output_type": "execute_result"
    }
   ],
   "source": [
    "vaccines[0:2]"
   ]
  },
  {
   "cell_type": "code",
   "execution_count": 157,
   "id": "4e1d42d7",
   "metadata": {},
   "outputs": [
    {
     "ename": "TypeError",
     "evalue": "'tuple' object doesn't support item deletion",
     "output_type": "error",
     "traceback": [
      "\u001b[1;31m---------------------------------------------------------------------------\u001b[0m",
      "\u001b[1;31mTypeError\u001b[0m                                 Traceback (most recent call last)",
      "\u001b[1;32m<ipython-input-157-d7cddcbfbacb>\u001b[0m in \u001b[0;36m<module>\u001b[1;34m\u001b[0m\n\u001b[1;32m----> 1\u001b[1;33m \u001b[1;32mdel\u001b[0m \u001b[0mvaccines\u001b[0m\u001b[1;33m[\u001b[0m\u001b[1;36m0\u001b[0m\u001b[1;33m]\u001b[0m\u001b[1;33m\u001b[0m\u001b[1;33m\u001b[0m\u001b[0m\n\u001b[0m",
      "\u001b[1;31mTypeError\u001b[0m: 'tuple' object doesn't support item deletion"
     ]
    }
   ],
   "source": [
    "del vaccines[0]"
   ]
  },
  {
   "cell_type": "code",
   "execution_count": 158,
   "id": "e9355240",
   "metadata": {},
   "outputs": [
    {
     "data": {
      "text/plain": [
       "'ZELCOME'"
      ]
     },
     "execution_count": 158,
     "metadata": {},
     "output_type": "execute_result"
    }
   ],
   "source": [
    "s"
   ]
  },
  {
   "cell_type": "code",
   "execution_count": 159,
   "id": "87a0f5ce",
   "metadata": {},
   "outputs": [
    {
     "ename": "TypeError",
     "evalue": "'str' object does not support item assignment",
     "output_type": "error",
     "traceback": [
      "\u001b[1;31m---------------------------------------------------------------------------\u001b[0m",
      "\u001b[1;31mTypeError\u001b[0m                                 Traceback (most recent call last)",
      "\u001b[1;32m<ipython-input-159-b67d8d5432fb>\u001b[0m in \u001b[0;36m<module>\u001b[1;34m\u001b[0m\n\u001b[1;32m----> 1\u001b[1;33m \u001b[0ms\u001b[0m\u001b[1;33m[\u001b[0m\u001b[1;36m0\u001b[0m\u001b[1;33m]\u001b[0m \u001b[1;33m=\u001b[0m \u001b[1;34m\"W\"\u001b[0m\u001b[1;33m\u001b[0m\u001b[1;33m\u001b[0m\u001b[0m\n\u001b[0m",
      "\u001b[1;31mTypeError\u001b[0m: 'str' object does not support item assignment"
     ]
    }
   ],
   "source": [
    "s[0] = \"W\""
   ]
  },
  {
   "cell_type": "code",
   "execution_count": null,
   "id": "1ca8203a",
   "metadata": {},
   "outputs": [],
   "source": []
  },
  {
   "cell_type": "markdown",
   "id": "698798d7",
   "metadata": {},
   "source": [
    "## Packing"
   ]
  },
  {
   "cell_type": "code",
   "execution_count": 160,
   "id": "6aa453db",
   "metadata": {},
   "outputs": [],
   "source": [
    "rs = \"Rohit\", 39, \"MUM\""
   ]
  },
  {
   "cell_type": "code",
   "execution_count": 161,
   "id": "41550337",
   "metadata": {},
   "outputs": [
    {
     "data": {
      "text/plain": [
       "('Rohit', 39, 'MUM')"
      ]
     },
     "execution_count": 161,
     "metadata": {},
     "output_type": "execute_result"
    }
   ],
   "source": [
    "rs"
   ]
  },
  {
   "cell_type": "code",
   "execution_count": 162,
   "id": "524d23b8",
   "metadata": {},
   "outputs": [
    {
     "data": {
      "text/plain": [
       "tuple"
      ]
     },
     "execution_count": 162,
     "metadata": {},
     "output_type": "execute_result"
    }
   ],
   "source": [
    "type(rs)"
   ]
  },
  {
   "cell_type": "code",
   "execution_count": null,
   "id": "b86034ea",
   "metadata": {},
   "outputs": [],
   "source": []
  },
  {
   "cell_type": "code",
   "execution_count": 163,
   "id": "c83e30b0",
   "metadata": {},
   "outputs": [],
   "source": [
    "speed = \"fast\""
   ]
  },
  {
   "cell_type": "code",
   "execution_count": 164,
   "id": "d89e1b7e",
   "metadata": {},
   "outputs": [
    {
     "data": {
      "text/plain": [
       "str"
      ]
     },
     "execution_count": 164,
     "metadata": {},
     "output_type": "execute_result"
    }
   ],
   "source": [
    "type(speed)"
   ]
  },
  {
   "cell_type": "code",
   "execution_count": 165,
   "id": "ed5e347e",
   "metadata": {},
   "outputs": [],
   "source": [
    "speed = \"fast\","
   ]
  },
  {
   "cell_type": "code",
   "execution_count": 166,
   "id": "6f1ff037",
   "metadata": {},
   "outputs": [
    {
     "data": {
      "text/plain": [
       "tuple"
      ]
     },
     "execution_count": 166,
     "metadata": {},
     "output_type": "execute_result"
    }
   ],
   "source": [
    "type(speed)"
   ]
  },
  {
   "cell_type": "code",
   "execution_count": null,
   "id": "b6ea3e49",
   "metadata": {},
   "outputs": [],
   "source": []
  },
  {
   "cell_type": "markdown",
   "id": "f979bc97",
   "metadata": {},
   "source": [
    "## IN Keywords\n",
    "* Check if element exists in the cotainer"
   ]
  },
  {
   "cell_type": "code",
   "execution_count": 167,
   "id": "3d4eccd4",
   "metadata": {},
   "outputs": [
    {
     "data": {
      "text/plain": [
       "('Covaxin', 'Covishield', 'Sputnik')"
      ]
     },
     "execution_count": 167,
     "metadata": {},
     "output_type": "execute_result"
    }
   ],
   "source": [
    "vaccines"
   ]
  },
  {
   "cell_type": "code",
   "execution_count": 168,
   "id": "449b8583",
   "metadata": {},
   "outputs": [
    {
     "data": {
      "text/plain": [
       "True"
      ]
     },
     "execution_count": 168,
     "metadata": {},
     "output_type": "execute_result"
    }
   ],
   "source": [
    "\"Covaxin\" in vaccines"
   ]
  },
  {
   "cell_type": "code",
   "execution_count": 169,
   "id": "9a7287ed",
   "metadata": {},
   "outputs": [
    {
     "data": {
      "text/plain": [
       "False"
      ]
     },
     "execution_count": 169,
     "metadata": {},
     "output_type": "execute_result"
    }
   ],
   "source": [
    "\"Test\" in vaccines"
   ]
  },
  {
   "cell_type": "code",
   "execution_count": 170,
   "id": "fa694abc",
   "metadata": {},
   "outputs": [
    {
     "data": {
      "text/plain": [
       "True"
      ]
     },
     "execution_count": 170,
     "metadata": {},
     "output_type": "execute_result"
    }
   ],
   "source": [
    "\"Test\" not in vaccines"
   ]
  },
  {
   "cell_type": "code",
   "execution_count": 171,
   "id": "f67408b9",
   "metadata": {},
   "outputs": [
    {
     "data": {
      "text/plain": [
       "['C', 'Java', 'Perl', 'Python', 'Ruby']"
      ]
     },
     "execution_count": 171,
     "metadata": {},
     "output_type": "execute_result"
    }
   ],
   "source": [
    "languages"
   ]
  },
  {
   "cell_type": "code",
   "execution_count": 172,
   "id": "585cdcf4",
   "metadata": {},
   "outputs": [
    {
     "data": {
      "text/plain": [
       "True"
      ]
     },
     "execution_count": 172,
     "metadata": {},
     "output_type": "execute_result"
    }
   ],
   "source": [
    "\"Ruby\" in languages"
   ]
  },
  {
   "cell_type": "code",
   "execution_count": 173,
   "id": "9d67bb46",
   "metadata": {},
   "outputs": [
    {
     "data": {
      "text/plain": [
       "False"
      ]
     },
     "execution_count": 173,
     "metadata": {},
     "output_type": "execute_result"
    }
   ],
   "source": [
    "\"Goling\" in languages"
   ]
  },
  {
   "cell_type": "code",
   "execution_count": 174,
   "id": "86daa913",
   "metadata": {},
   "outputs": [
    {
     "data": {
      "text/plain": [
       "'ZELCOME'"
      ]
     },
     "execution_count": 174,
     "metadata": {},
     "output_type": "execute_result"
    }
   ],
   "source": [
    "s"
   ]
  },
  {
   "cell_type": "code",
   "execution_count": 175,
   "id": "13da9be7",
   "metadata": {},
   "outputs": [
    {
     "data": {
      "text/plain": [
       "True"
      ]
     },
     "execution_count": 175,
     "metadata": {},
     "output_type": "execute_result"
    }
   ],
   "source": [
    "\"L\" in s"
   ]
  },
  {
   "cell_type": "code",
   "execution_count": 176,
   "id": "e521d241",
   "metadata": {},
   "outputs": [
    {
     "data": {
      "text/plain": [
       "False"
      ]
     },
     "execution_count": 176,
     "metadata": {},
     "output_type": "execute_result"
    }
   ],
   "source": [
    "\"W\" in s"
   ]
  },
  {
   "cell_type": "code",
   "execution_count": 177,
   "id": "0b3160fd",
   "metadata": {},
   "outputs": [
    {
     "data": {
      "text/plain": [
       "True"
      ]
     },
     "execution_count": 177,
     "metadata": {},
     "output_type": "execute_result"
    }
   ],
   "source": [
    "\"W\" not in s"
   ]
  },
  {
   "cell_type": "code",
   "execution_count": null,
   "id": "e187a1a3",
   "metadata": {},
   "outputs": [],
   "source": []
  },
  {
   "cell_type": "markdown",
   "id": "df6b3359",
   "metadata": {},
   "source": [
    "### Mutable objects in Tuple"
   ]
  },
  {
   "cell_type": "code",
   "execution_count": 178,
   "id": "ab6376d8",
   "metadata": {},
   "outputs": [],
   "source": [
    "fruits = (\"apple\", 'banana', [1,2,3], 'dates')"
   ]
  },
  {
   "cell_type": "code",
   "execution_count": 179,
   "id": "bd311994",
   "metadata": {},
   "outputs": [
    {
     "data": {
      "text/plain": [
       "4"
      ]
     },
     "execution_count": 179,
     "metadata": {},
     "output_type": "execute_result"
    }
   ],
   "source": [
    "len(fruits)"
   ]
  },
  {
   "cell_type": "code",
   "execution_count": 180,
   "id": "b8a45876",
   "metadata": {},
   "outputs": [
    {
     "data": {
      "text/plain": [
       "tuple"
      ]
     },
     "execution_count": 180,
     "metadata": {},
     "output_type": "execute_result"
    }
   ],
   "source": [
    "type(fruits)"
   ]
  },
  {
   "cell_type": "code",
   "execution_count": 181,
   "id": "e41a5ad2",
   "metadata": {},
   "outputs": [
    {
     "data": {
      "text/plain": [
       "[1, 2, 3]"
      ]
     },
     "execution_count": 181,
     "metadata": {},
     "output_type": "execute_result"
    }
   ],
   "source": [
    "fruits[2]"
   ]
  },
  {
   "cell_type": "code",
   "execution_count": 182,
   "id": "2f741084",
   "metadata": {},
   "outputs": [],
   "source": [
    "fruits[2].append(4)"
   ]
  },
  {
   "cell_type": "code",
   "execution_count": 183,
   "id": "3947a8e3",
   "metadata": {},
   "outputs": [
    {
     "data": {
      "text/plain": [
       "('apple', 'banana', [1, 2, 3, 4], 'dates')"
      ]
     },
     "execution_count": 183,
     "metadata": {},
     "output_type": "execute_result"
    }
   ],
   "source": [
    "fruits"
   ]
  },
  {
   "cell_type": "code",
   "execution_count": 184,
   "id": "8563161b",
   "metadata": {},
   "outputs": [
    {
     "ename": "TypeError",
     "evalue": "'tuple' object does not support item assignment",
     "output_type": "error",
     "traceback": [
      "\u001b[1;31m---------------------------------------------------------------------------\u001b[0m",
      "\u001b[1;31mTypeError\u001b[0m                                 Traceback (most recent call last)",
      "\u001b[1;32m<ipython-input-184-afc59a11a144>\u001b[0m in \u001b[0;36m<module>\u001b[1;34m\u001b[0m\n\u001b[1;32m----> 1\u001b[1;33m \u001b[0mfruits\u001b[0m\u001b[1;33m[\u001b[0m\u001b[1;36m0\u001b[0m\u001b[1;33m]\u001b[0m \u001b[1;33m=\u001b[0m \u001b[1;34m\"Cherry\"\u001b[0m\u001b[1;33m\u001b[0m\u001b[1;33m\u001b[0m\u001b[0m\n\u001b[0m",
      "\u001b[1;31mTypeError\u001b[0m: 'tuple' object does not support item assignment"
     ]
    }
   ],
   "source": [
    "fruits[0] = \"Cherry\""
   ]
  },
  {
   "cell_type": "code",
   "execution_count": 185,
   "id": "cbaa3430",
   "metadata": {},
   "outputs": [
    {
     "data": {
      "text/plain": [
       "('apple', 'banana', [1, 2, 3, 4], 'dates')"
      ]
     },
     "execution_count": 185,
     "metadata": {},
     "output_type": "execute_result"
    }
   ],
   "source": [
    "fruits"
   ]
  },
  {
   "cell_type": "code",
   "execution_count": 186,
   "id": "fbc39661",
   "metadata": {},
   "outputs": [
    {
     "data": {
      "text/plain": [
       "2007145319360"
      ]
     },
     "execution_count": 186,
     "metadata": {},
     "output_type": "execute_result"
    }
   ],
   "source": [
    "id(fruits[2])"
   ]
  },
  {
   "cell_type": "code",
   "execution_count": 187,
   "id": "8ded7924",
   "metadata": {},
   "outputs": [
    {
     "ename": "TypeError",
     "evalue": "'tuple' object does not support item assignment",
     "output_type": "error",
     "traceback": [
      "\u001b[1;31m---------------------------------------------------------------------------\u001b[0m",
      "\u001b[1;31mTypeError\u001b[0m                                 Traceback (most recent call last)",
      "\u001b[1;32m<ipython-input-187-186202695cf6>\u001b[0m in \u001b[0;36m<module>\u001b[1;34m\u001b[0m\n\u001b[1;32m----> 1\u001b[1;33m \u001b[0mfruits\u001b[0m\u001b[1;33m[\u001b[0m\u001b[1;36m2\u001b[0m\u001b[1;33m]\u001b[0m \u001b[1;33m=\u001b[0m \u001b[1;34m\"Orange\"\u001b[0m\u001b[1;33m\u001b[0m\u001b[1;33m\u001b[0m\u001b[0m\n\u001b[0m",
      "\u001b[1;31mTypeError\u001b[0m: 'tuple' object does not support item assignment"
     ]
    }
   ],
   "source": [
    "fruits[2] = \"Orange\""
   ]
  },
  {
   "cell_type": "code",
   "execution_count": 188,
   "id": "fc7bc000",
   "metadata": {},
   "outputs": [],
   "source": [
    "fruits[2][0] = 'one'"
   ]
  },
  {
   "cell_type": "code",
   "execution_count": 189,
   "id": "06da51ab",
   "metadata": {},
   "outputs": [
    {
     "data": {
      "text/plain": [
       "('apple', 'banana', ['one', 2, 3, 4], 'dates')"
      ]
     },
     "execution_count": 189,
     "metadata": {},
     "output_type": "execute_result"
    }
   ],
   "source": [
    "fruits"
   ]
  },
  {
   "cell_type": "code",
   "execution_count": 190,
   "id": "00854ec6",
   "metadata": {},
   "outputs": [],
   "source": [
    "fruits[2][1] = 'two'"
   ]
  },
  {
   "cell_type": "code",
   "execution_count": 192,
   "id": "79435448",
   "metadata": {},
   "outputs": [
    {
     "data": {
      "text/plain": [
       "('apple', 'banana', ['one', 'two', 3, 4], 'dates')"
      ]
     },
     "execution_count": 192,
     "metadata": {},
     "output_type": "execute_result"
    }
   ],
   "source": [
    "fruits"
   ]
  },
  {
   "cell_type": "code",
   "execution_count": null,
   "id": "5f4bccf3",
   "metadata": {},
   "outputs": [],
   "source": []
  },
  {
   "cell_type": "markdown",
   "id": "7b0e20a7",
   "metadata": {},
   "source": [
    "### Misc - Strings"
   ]
  },
  {
   "cell_type": "code",
   "execution_count": 195,
   "id": "316ec8ef",
   "metadata": {},
   "outputs": [],
   "source": [
    "location = \"C:\\neffolder\""
   ]
  },
  {
   "cell_type": "code",
   "execution_count": 196,
   "id": "91c9d780",
   "metadata": {},
   "outputs": [
    {
     "name": "stdout",
     "output_type": "stream",
     "text": [
      "C:\n",
      "effolder\n"
     ]
    }
   ],
   "source": [
    "print(location)"
   ]
  },
  {
   "cell_type": "code",
   "execution_count": 197,
   "id": "596925c6",
   "metadata": {},
   "outputs": [],
   "source": [
    "location = \"C:\\\\neffolder\""
   ]
  },
  {
   "cell_type": "code",
   "execution_count": 198,
   "id": "b34b766d",
   "metadata": {},
   "outputs": [
    {
     "name": "stdout",
     "output_type": "stream",
     "text": [
      "C:\\neffolder\n"
     ]
    }
   ],
   "source": [
    "print(location)"
   ]
  },
  {
   "cell_type": "code",
   "execution_count": 199,
   "id": "7086943c",
   "metadata": {},
   "outputs": [],
   "source": [
    "# r => Refers to RAW String , treats the string as it is, Don't escape any charactor"
   ]
  },
  {
   "cell_type": "code",
   "execution_count": 201,
   "id": "7f700c4b",
   "metadata": {},
   "outputs": [],
   "source": [
    "location = r\"C:\\neffolder\\myfolder\\yes\""
   ]
  },
  {
   "cell_type": "code",
   "execution_count": 202,
   "id": "9e54e028",
   "metadata": {},
   "outputs": [
    {
     "name": "stdout",
     "output_type": "stream",
     "text": [
      "C:\\neffolder\\myfolder\\yes\n"
     ]
    }
   ],
   "source": [
    "print(location)"
   ]
  },
  {
   "cell_type": "code",
   "execution_count": null,
   "id": "46995983",
   "metadata": {},
   "outputs": [],
   "source": []
  },
  {
   "cell_type": "markdown",
   "id": "dd0a8d9f",
   "metadata": {},
   "source": [
    "### Format"
   ]
  },
  {
   "cell_type": "code",
   "execution_count": 203,
   "id": "f800d5ca",
   "metadata": {},
   "outputs": [],
   "source": [
    "sessionCount = 10"
   ]
  },
  {
   "cell_type": "code",
   "execution_count": 204,
   "id": "c77014dc",
   "metadata": {},
   "outputs": [],
   "source": [
    "chapters = 8"
   ]
  },
  {
   "cell_type": "code",
   "execution_count": 207,
   "id": "5d4a1577",
   "metadata": {},
   "outputs": [],
   "source": [
    "msg = \"There will be \" + str(chapters) + \" chapters is the course, spanned across \" + str(sessionCount) + \" sessions.\""
   ]
  },
  {
   "cell_type": "code",
   "execution_count": 208,
   "id": "6aea6717",
   "metadata": {},
   "outputs": [
    {
     "name": "stdout",
     "output_type": "stream",
     "text": [
      "There will be 8 chapters is the course, spanned across 10 sessions.\n"
     ]
    }
   ],
   "source": [
    "print(msg)"
   ]
  },
  {
   "cell_type": "code",
   "execution_count": 209,
   "id": "8913c2ac",
   "metadata": {},
   "outputs": [],
   "source": [
    "msg = \"There will be {} chapters in the course, spenned across {} sessions\".format(chapters, sessionCount)"
   ]
  },
  {
   "cell_type": "code",
   "execution_count": 210,
   "id": "5c7255dd",
   "metadata": {},
   "outputs": [
    {
     "name": "stdout",
     "output_type": "stream",
     "text": [
      "There will be 8 chapters in the course, spenned across 10 sessions\n"
     ]
    }
   ],
   "source": [
    "print(msg)"
   ]
  },
  {
   "cell_type": "code",
   "execution_count": null,
   "id": "fca2d7fe",
   "metadata": {},
   "outputs": [],
   "source": []
  },
  {
   "cell_type": "markdown",
   "id": "19195d77",
   "metadata": {},
   "source": [
    "### Dictionaries\n",
    "* Collection of Key-Value pair\n",
    "* syntax: { }\n",
    "* MUTABLE\n",
    "* collection of {K1:V1,K2:V2, ...}\n",
    "* Maps, Hash maps"
   ]
  },
  {
   "cell_type": "code",
   "execution_count": 211,
   "id": "fa09da19",
   "metadata": {},
   "outputs": [],
   "source": [
    "fruits = {\"a\":\"apple\",\"b\":\"banana\",\"c\":\"cherry\"}"
   ]
  },
  {
   "cell_type": "code",
   "execution_count": 212,
   "id": "d72d56db",
   "metadata": {},
   "outputs": [
    {
     "data": {
      "text/plain": [
       "dict"
      ]
     },
     "execution_count": 212,
     "metadata": {},
     "output_type": "execute_result"
    }
   ],
   "source": [
    "type(fruits)"
   ]
  },
  {
   "cell_type": "code",
   "execution_count": 213,
   "id": "a6696843",
   "metadata": {},
   "outputs": [
    {
     "data": {
      "text/plain": [
       "3"
      ]
     },
     "execution_count": 213,
     "metadata": {},
     "output_type": "execute_result"
    }
   ],
   "source": [
    "len(fruits)"
   ]
  },
  {
   "cell_type": "code",
   "execution_count": 214,
   "id": "cca8a781",
   "metadata": {},
   "outputs": [
    {
     "data": {
      "text/plain": [
       "'apple'"
      ]
     },
     "execution_count": 214,
     "metadata": {},
     "output_type": "execute_result"
    }
   ],
   "source": [
    "fruits['a']"
   ]
  },
  {
   "cell_type": "code",
   "execution_count": 215,
   "id": "ef951664",
   "metadata": {},
   "outputs": [
    {
     "ename": "KeyError",
     "evalue": "'p'",
     "output_type": "error",
     "traceback": [
      "\u001b[1;31m---------------------------------------------------------------------------\u001b[0m",
      "\u001b[1;31mKeyError\u001b[0m                                  Traceback (most recent call last)",
      "\u001b[1;32m<ipython-input-215-d376d4af5be6>\u001b[0m in \u001b[0;36m<module>\u001b[1;34m\u001b[0m\n\u001b[1;32m----> 1\u001b[1;33m \u001b[0mfruits\u001b[0m\u001b[1;33m[\u001b[0m\u001b[1;34m'p'\u001b[0m\u001b[1;33m]\u001b[0m\u001b[1;33m\u001b[0m\u001b[1;33m\u001b[0m\u001b[0m\n\u001b[0m",
      "\u001b[1;31mKeyError\u001b[0m: 'p'"
     ]
    }
   ],
   "source": [
    "fruits['p']"
   ]
  },
  {
   "cell_type": "code",
   "execution_count": null,
   "id": "273e1156",
   "metadata": {},
   "outputs": [],
   "source": []
  },
  {
   "cell_type": "markdown",
   "id": "f8ff1337",
   "metadata": {},
   "source": []
  },
  {
   "cell_type": "code",
   "execution_count": null,
   "id": "e4c90473",
   "metadata": {},
   "outputs": [],
   "source": []
  }
 ],
 "metadata": {
  "kernelspec": {
   "display_name": "Python 3",
   "language": "python",
   "name": "python3"
  },
  "language_info": {
   "codemirror_mode": {
    "name": "ipython",
    "version": 3
   },
   "file_extension": ".py",
   "mimetype": "text/x-python",
   "name": "python",
   "nbconvert_exporter": "python",
   "pygments_lexer": "ipython3",
   "version": "3.8.8"
  }
 },
 "nbformat": 4,
 "nbformat_minor": 5
}
