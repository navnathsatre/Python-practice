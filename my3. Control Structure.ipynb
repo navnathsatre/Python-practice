{
 "cells": [
  {
   "cell_type": "code",
   "execution_count": 1,
   "id": "b0ab2d2c",
   "metadata": {},
   "outputs": [
    {
     "name": "stdout",
     "output_type": "stream",
     "text": [
      "Enter any number: 0\n",
      "User has entered zero.\n"
     ]
    }
   ],
   "source": [
    "number = input(\"Enter any number: \")\n",
    "number = int(number)\n",
    "if number > 0:\n",
    "    print(\"User has entered positive number8.\")\n",
    "elif number == 0: \n",
    "    print(\"User has entered zero.\")\n",
    "else:\n",
    "    print(\"User has entered negative number.\")"
   ]
  },
  {
   "cell_type": "code",
   "execution_count": 2,
   "id": "bb553542",
   "metadata": {},
   "outputs": [],
   "source": [
    "# Write a prg to calculate bmi - body mass index (bmi = weight / height ^ 2).\n",
    "#\n",
    "# if bmi <= 18.5 print \"Underweight\"\n",
    "# if bmi <= 25.0 print \"Normal\"\n",
    "# if bmi <= 30.0 print \"Overweight\"\n",
    "# if bmi > 30 print \"Obese\"\n",
    "\n",
    "# inputs => 1. Weight, 2. Height\n",
    "# bmi = weight / height ** 2"
   ]
  },
  {
   "cell_type": "code",
   "execution_count": 23,
   "id": "6a99ac72",
   "metadata": {},
   "outputs": [
    {
     "name": "stdout",
     "output_type": "stream",
     "text": [
      "Enter the weight(kg): 80\n",
      "Enter the height(cm): 100\n",
      "Obese\n"
     ]
    }
   ],
   "source": [
    "weight = float(input('Enter the weight(kg): '))\n",
    "height = float(input('Enter the height(cm): '))\n",
    "bmi = weight*100000 / (height ** 2)\n",
    "if bmi <= 18.5:\n",
    "    print(\"Underweight\")\n",
    "elif bmi <= 25.0:\n",
    "    print (\"Normal\")\n",
    "elif bmi <= 30.0:\n",
    "    print (\"Overweight\")\n",
    "else:\n",
    "    print (\"Obese\")"
   ]
  },
  {
   "cell_type": "code",
   "execution_count": 24,
   "id": "dfa752ce",
   "metadata": {},
   "outputs": [
    {
     "name": "stdout",
     "output_type": "stream",
     "text": [
      "1\n",
      "2\n",
      "3\n",
      "4\n",
      "5\n",
      "6\n",
      "7\n",
      "8\n",
      "9\n",
      "10\n"
     ]
    }
   ],
   "source": [
    "index = 1 \n",
    "while index <= 10:\n",
    "    print(index)\n",
    "    index += 1"
   ]
  },
  {
   "cell_type": "code",
   "execution_count": 25,
   "id": "31734d16",
   "metadata": {},
   "outputs": [
    {
     "name": "stdout",
     "output_type": "stream",
     "text": [
      "5\n",
      "15\n",
      "25\n",
      "35\n",
      "45\n"
     ]
    }
   ],
   "source": [
    "r = range(5,51,10)\n",
    "for item in r:\n",
    "    print(item)"
   ]
  },
  {
   "cell_type": "code",
   "execution_count": 28,
   "id": "328ca430",
   "metadata": {},
   "outputs": [
    {
     "name": "stdout",
     "output_type": "stream",
     "text": [
      "www.amazon.com\n",
      "www.flipcart.com\n",
      "www.snapdeal.com\n",
      "www.paytm.com\n"
     ]
    }
   ],
   "source": [
    "websites = ['amazon','flipcart','snapdeal','paytm']\n",
    "for item in websites:\n",
    "    print('www.'+ item +'.com')"
   ]
  },
  {
   "cell_type": "code",
   "execution_count": 30,
   "id": "3b5e21d8",
   "metadata": {},
   "outputs": [
    {
     "name": "stdout",
     "output_type": "stream",
     "text": [
      "www.amazon.com\n",
      "www.flipcart.com\n",
      "www.snapdeal.com\n",
      "www.paytm.com\n"
     ]
    }
   ],
   "source": [
    "for item in websites:\n",
    "    print('www.{}.com'.format(item))\n"
   ]
  },
  {
   "cell_type": "code",
   "execution_count": 31,
   "id": "2c6ae86d",
   "metadata": {},
   "outputs": [
    {
     "name": "stdout",
     "output_type": "stream",
     "text": [
      "www.amazon.com\n",
      "www.amazon.org\n",
      "www.amazon.in\n",
      "www.flipkart.com\n",
      "www.flipkart.org\n",
      "www.flipkart.in\n",
      "www.snapdeal.com\n",
      "www.snapdeal.org\n",
      "www.snapdeal.in\n",
      "www.paytm.com\n",
      "www.paytm.org\n",
      "www.paytm.in\n"
     ]
    }
   ],
   "source": [
    "websites = [\"amazon\", \"flipkart\", \"snapdeal\", \"paytm\"]\n",
    "extensions = [\"com\", \"org\", \"in\"]\n",
    "for i in websites:\n",
    "    for j in extensions:\n",
    "        print('www.{}.{}'.format(i,j))"
   ]
  },
  {
   "cell_type": "code",
   "execution_count": 32,
   "id": "cb54516b",
   "metadata": {},
   "outputs": [],
   "source": [
    "vk = {'Name':'Virat','Age':31,'Team':'RCB','Role':'Captain'}\n"
   ]
  },
  {
   "cell_type": "code",
   "execution_count": 33,
   "id": "dc0417c7",
   "metadata": {},
   "outputs": [
    {
     "name": "stdout",
     "output_type": "stream",
     "text": [
      "Name\n",
      "Age\n",
      "Team\n",
      "Role\n"
     ]
    }
   ],
   "source": [
    "for item in vk:\n",
    "    print(item)"
   ]
  },
  {
   "cell_type": "code",
   "execution_count": 35,
   "id": "9292b413",
   "metadata": {},
   "outputs": [
    {
     "name": "stdout",
     "output_type": "stream",
     "text": [
      "Virat\n",
      "31\n",
      "RCB\n",
      "Captain\n"
     ]
    }
   ],
   "source": [
    "for item in vk.values():\n",
    "    print(item)"
   ]
  },
  {
   "cell_type": "code",
   "execution_count": 36,
   "id": "cd824f35",
   "metadata": {},
   "outputs": [
    {
     "name": "stdout",
     "output_type": "stream",
     "text": [
      "Name Virat\n",
      "Age 31\n",
      "Team RCB\n",
      "Role Captain\n"
     ]
    }
   ],
   "source": [
    "for key, value in vk.items():\n",
    "    print(key,value)"
   ]
  },
  {
   "cell_type": "code",
   "execution_count": 37,
   "id": "799f4421",
   "metadata": {},
   "outputs": [
    {
     "data": {
      "text/plain": [
       "dict_items([('Name', 'Virat'), ('Age', 31), ('Team', 'RCB'), ('Role', 'Captain')])"
      ]
     },
     "execution_count": 37,
     "metadata": {},
     "output_type": "execute_result"
    }
   ],
   "source": [
    "vk.items()"
   ]
  },
  {
   "cell_type": "code",
   "execution_count": 38,
   "id": "f19a82ff",
   "metadata": {},
   "outputs": [
    {
     "name": "stdout",
     "output_type": "stream",
     "text": [
      "1\n",
      "2\n",
      "3\n",
      "4\n",
      "5\n"
     ]
    }
   ],
   "source": [
    "for item in range(1,11):\n",
    "    print(item)\n",
    "    if item==5:\n",
    "        break"
   ]
  },
  {
   "cell_type": "code",
   "execution_count": null,
   "id": "765dcf0a",
   "metadata": {},
   "outputs": [],
   "source": [
    "for item in range(1,11):\n",
    "    print(item)"
   ]
  },
  {
   "cell_type": "code",
   "execution_count": null,
   "id": "d2188c62",
   "metadata": {},
   "outputs": [],
   "source": []
  },
  {
   "cell_type": "code",
   "execution_count": 39,
   "id": "406f7a05",
   "metadata": {},
   "outputs": [
    {
     "data": {
      "text/plain": [
       "4.5"
      ]
     },
     "execution_count": 39,
     "metadata": {},
     "output_type": "execute_result"
    }
   ],
   "source": [
    "18/4"
   ]
  },
  {
   "cell_type": "code",
   "execution_count": 40,
   "id": "2a6e36eb",
   "metadata": {},
   "outputs": [
    {
     "data": {
      "text/plain": [
       "2"
      ]
     },
     "execution_count": 40,
     "metadata": {},
     "output_type": "execute_result"
    }
   ],
   "source": [
    "18%4"
   ]
  },
  {
   "cell_type": "code",
   "execution_count": 43,
   "id": "5cf43818",
   "metadata": {},
   "outputs": [
    {
     "name": "stdout",
     "output_type": "stream",
     "text": [
      "1 3 5 7 9 "
     ]
    }
   ],
   "source": [
    "for item in range(1,11):\n",
    "    if item % 2 ==0:\n",
    "        continue\n",
    "    print(item, end=' ')"
   ]
  },
  {
   "cell_type": "code",
   "execution_count": 44,
   "id": "bab208f6",
   "metadata": {},
   "outputs": [
    {
     "ename": "SyntaxError",
     "evalue": "unexpected EOF while parsing (<ipython-input-44-69069be79369>, line 2)",
     "output_type": "error",
     "traceback": [
      "\u001b[1;36m  File \u001b[1;32m\"<ipython-input-44-69069be79369>\"\u001b[1;36m, line \u001b[1;32m2\u001b[0m\n\u001b[1;33m    \u001b[0m\n\u001b[1;37m    ^\u001b[0m\n\u001b[1;31mSyntaxError\u001b[0m\u001b[1;31m:\u001b[0m unexpected EOF while parsing\n"
     ]
    }
   ],
   "source": [
    "for item in range(1,11):\n",
    "    "
   ]
  },
  {
   "cell_type": "code",
   "execution_count": 45,
   "id": "c974244d",
   "metadata": {},
   "outputs": [],
   "source": [
    "for item in range(1,11):\n",
    "    pass"
   ]
  },
  {
   "cell_type": "code",
   "execution_count": 64,
   "id": "1e1b3f38",
   "metadata": {},
   "outputs": [
    {
     "name": "stdout",
     "output_type": "stream",
     "text": [
      "Enter the number: 123\n"
     ]
    }
   ],
   "source": [
    "# Excercise a:\n",
    "# Take input from the user and print the reverse of a number \n",
    "# Input: 123\n",
    "# Output: 321\n",
    "num = (input(\"Enter the number: \"))"
   ]
  },
  {
   "cell_type": "code",
   "execution_count": 70,
   "id": "2c30445b",
   "metadata": {},
   "outputs": [],
   "source": [
    "a = list(num)\n",
    "a.reverse()\n",
    "a.sort()"
   ]
  },
  {
   "cell_type": "code",
   "execution_count": 73,
   "id": "6b97178f",
   "metadata": {},
   "outputs": [
    {
     "data": {
      "text/plain": [
       "['1', '2', '3']"
      ]
     },
     "execution_count": 73,
     "metadata": {},
     "output_type": "execute_result"
    }
   ],
   "source": [
    "a[:]"
   ]
  },
  {
   "cell_type": "code",
   "execution_count": null,
   "id": "3e1c5844",
   "metadata": {},
   "outputs": [],
   "source": [
    "# Excercise b:\n",
    "# Write a program to get the sum of all elements in the list\n",
    "# numbers = [11, 22, 33, 44, 55, 66, 77, 88, 99]"
   ]
  },
  {
   "cell_type": "code",
   "execution_count": 53,
   "id": "2354c4e1",
   "metadata": {},
   "outputs": [
    {
     "data": {
      "text/plain": [
       "495"
      ]
     },
     "execution_count": 53,
     "metadata": {},
     "output_type": "execute_result"
    }
   ],
   "source": [
    "numbers = [11, 22, 33, 44, 55, 66, 77, 88, 99]\n",
    "sum(numbers[:])"
   ]
  },
  {
   "cell_type": "code",
   "execution_count": null,
   "id": "ff90c4f8",
   "metadata": {},
   "outputs": [],
   "source": []
  },
  {
   "cell_type": "code",
   "execution_count": null,
   "id": "107d275d",
   "metadata": {},
   "outputs": [],
   "source": [
    "# Excercise c:\n",
    "# Write a program to take five numbers from the user and print the largest number"
   ]
  },
  {
   "cell_type": "code",
   "execution_count": null,
   "id": "c46e174e",
   "metadata": {},
   "outputs": [],
   "source": []
  },
  {
   "cell_type": "code",
   "execution_count": null,
   "id": "2e14f72d",
   "metadata": {},
   "outputs": [],
   "source": []
  },
  {
   "cell_type": "code",
   "execution_count": null,
   "id": "ecb18779",
   "metadata": {},
   "outputs": [],
   "source": []
  },
  {
   "cell_type": "code",
   "execution_count": null,
   "id": "f1362362",
   "metadata": {},
   "outputs": [],
   "source": []
  },
  {
   "cell_type": "code",
   "execution_count": null,
   "id": "4dd89573",
   "metadata": {},
   "outputs": [],
   "source": []
  },
  {
   "cell_type": "code",
   "execution_count": null,
   "id": "ae97a6bc",
   "metadata": {},
   "outputs": [],
   "source": []
  },
  {
   "cell_type": "code",
   "execution_count": null,
   "id": "ea22c2a3",
   "metadata": {},
   "outputs": [],
   "source": []
  },
  {
   "cell_type": "code",
   "execution_count": null,
   "id": "6c7651f2",
   "metadata": {},
   "outputs": [],
   "source": []
  },
  {
   "cell_type": "code",
   "execution_count": null,
   "id": "30c24fab",
   "metadata": {},
   "outputs": [],
   "source": []
  },
  {
   "cell_type": "code",
   "execution_count": null,
   "id": "634279b8",
   "metadata": {},
   "outputs": [],
   "source": []
  },
  {
   "cell_type": "code",
   "execution_count": null,
   "id": "804c02f3",
   "metadata": {},
   "outputs": [],
   "source": []
  },
  {
   "cell_type": "code",
   "execution_count": null,
   "id": "fd2a0bab",
   "metadata": {},
   "outputs": [],
   "source": []
  },
  {
   "cell_type": "code",
   "execution_count": null,
   "id": "9958c058",
   "metadata": {},
   "outputs": [],
   "source": []
  },
  {
   "cell_type": "code",
   "execution_count": null,
   "id": "e9f0b826",
   "metadata": {},
   "outputs": [],
   "source": []
  },
  {
   "cell_type": "code",
   "execution_count": null,
   "id": "2d9e24eb",
   "metadata": {},
   "outputs": [],
   "source": []
  },
  {
   "cell_type": "code",
   "execution_count": null,
   "id": "68d0010b",
   "metadata": {},
   "outputs": [],
   "source": []
  },
  {
   "cell_type": "code",
   "execution_count": null,
   "id": "0bafd5ed",
   "metadata": {},
   "outputs": [],
   "source": []
  },
  {
   "cell_type": "code",
   "execution_count": null,
   "id": "6c56f427",
   "metadata": {},
   "outputs": [],
   "source": []
  },
  {
   "cell_type": "code",
   "execution_count": null,
   "id": "dab431e6",
   "metadata": {},
   "outputs": [],
   "source": []
  },
  {
   "cell_type": "code",
   "execution_count": null,
   "id": "c7038a55",
   "metadata": {},
   "outputs": [],
   "source": []
  },
  {
   "cell_type": "code",
   "execution_count": null,
   "id": "112e0704",
   "metadata": {},
   "outputs": [],
   "source": []
  }
 ],
 "metadata": {
  "kernelspec": {
   "display_name": "Python 3",
   "language": "python",
   "name": "python3"
  },
  "language_info": {
   "codemirror_mode": {
    "name": "ipython",
    "version": 3
   },
   "file_extension": ".py",
   "mimetype": "text/x-python",
   "name": "python",
   "nbconvert_exporter": "python",
   "pygments_lexer": "ipython3",
   "version": "3.8.8"
  }
 },
 "nbformat": 4,
 "nbformat_minor": 5
}
